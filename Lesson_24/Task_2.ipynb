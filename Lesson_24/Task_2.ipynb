{
 "cells": [
  {
   "cell_type": "markdown",
   "id": "ea01f2e8",
   "metadata": {},
   "source": [
    "# Задача"
   ]
  },
  {
   "cell_type": "markdown",
   "id": "11a1a014",
   "metadata": {},
   "source": [
    "Є можливість вибрати спосіб виробництва і реалізації двох наборів товарів широкого вжитку. За даними відділу маркетингу, яким були проведені дослідження ринку, можливий прибуток від виробництва і реалізації X і Y наведено в таблицях (X,Y  – прибуток в грощових одиницях)."
   ]
  },
  {
   "cell_type": "markdown",
   "id": "b8aaff60",
   "metadata": {},
   "source": [
    "X   |1000 |1500 |2000|\n",
    "----|:---:|:---:|---:|\n",
    "P   |0,5  |0,3  |0,2 |"
   ]
  },
  {
   "cell_type": "markdown",
   "id": "7b43bfa4",
   "metadata": {},
   "source": [
    "Y   |1000 |1500 |1750|\n",
    "----|:---:|:---:|---:|\n",
    "P   |0,4  |0,4  |0,2 |"
   ]
  },
  {
   "cell_type": "markdown",
   "id": "b74a889e",
   "metadata": {},
   "source": [
    "Потрібно оцінити ступінь ризику і запропонувати рішення щодо випуску і реалізації одного із набора товарів."
   ]
  },
  {
   "cell_type": "markdown",
   "id": "5c1e9de2",
   "metadata": {},
   "source": [
    "# Розв’язок"
   ]
  },
  {
   "cell_type": "markdown",
   "id": "365ff422",
   "metadata": {},
   "source": [
    "Спочатку визначимо математичне очікування для кожного набору товарів:\n",
    "\n",
    "$M[X] = \\sum_1^3{X_i∙P_i}$ = 1000∙0,5 + 1500∙0,3 + 2000∙0,2 = \n",
    "\n"
   ]
  },
  {
   "cell_type": "code",
   "execution_count": 7,
   "id": "f752a77b",
   "metadata": {
    "scrolled": true
   },
   "outputs": [
    {
     "data": {
      "text/plain": [
       "1350.0"
      ]
     },
     "execution_count": 7,
     "metadata": {},
     "output_type": "execute_result"
    }
   ],
   "source": [
    "1000*0.5 + 1500*0.3 + 2000*0.2"
   ]
  },
  {
   "cell_type": "markdown",
   "id": "26325c32",
   "metadata": {},
   "source": [
    "$M[Y] = \\sum_1^3{Y_i∙P_i}$ = 1000∙0,4 + 1500∙0,4 + 1750∙0,2 = "
   ]
  },
  {
   "cell_type": "code",
   "execution_count": 2,
   "id": "f09a9517",
   "metadata": {},
   "outputs": [
    {
     "data": {
      "text/plain": [
       "1350.0"
      ]
     },
     "execution_count": 2,
     "metadata": {},
     "output_type": "execute_result"
    }
   ],
   "source": [
    "1000*0.4 + 1500*0.4 + 1750*0.2"
   ]
  },
  {
   "cell_type": "markdown",
   "id": "92de7596",
   "metadata": {},
   "source": [
    "Визначимо дисперсію для кожного набору товарів.\n",
    "\n",
    "\n",
    "$D[X] = M[(X-M[X])^2] = 0,5∙(1000-1350)^2+0,3∙(1500-1350)^2+0,2∙(2000-1350)^2=$"
   ]
  },
  {
   "cell_type": "code",
   "execution_count": 6,
   "id": "a799576e",
   "metadata": {},
   "outputs": [
    {
     "data": {
      "text/plain": [
       "152500.0"
      ]
     },
     "execution_count": 6,
     "metadata": {},
     "output_type": "execute_result"
    }
   ],
   "source": [
    "0.5*(1000-1350)**2+0.3*(1500-1350)**2+0.2*(2000-1350)**2"
   ]
  },
  {
   "cell_type": "markdown",
   "id": "4d7a48a5",
   "metadata": {},
   "source": [
    "$D[Y] = M[(Y-M[Y])^2] = 0,4∙(1000-1350)^2+0,4∙(1500-1350)^2+0,2∙(1750-1350)^2=$"
   ]
  },
  {
   "cell_type": "code",
   "execution_count": 8,
   "id": "1b2805bc",
   "metadata": {},
   "outputs": [
    {
     "data": {
      "text/plain": [
       "90000.0"
      ]
     },
     "execution_count": 8,
     "metadata": {},
     "output_type": "execute_result"
    }
   ],
   "source": [
    "0.4*(1000-1350)**2+0.4*(1500-1350)**2+0.2*(1750-1350)**2"
   ]
  },
  {
   "cell_type": "markdown",
   "id": "608a74c5",
   "metadata": {},
   "source": [
    "Визначимо середньоквадратичне відхилення для кожного набору товарів. \n",
    "\n",
    "$σ_X = \\sqrt {D[X]} = $"
   ]
  },
  {
   "cell_type": "code",
   "execution_count": 13,
   "id": "f091ea41",
   "metadata": {},
   "outputs": [
    {
     "data": {
      "text/plain": [
       "390.512"
      ]
     },
     "execution_count": 13,
     "metadata": {},
     "output_type": "execute_result"
    }
   ],
   "source": [
    "round(152500.0**0.5, 3)"
   ]
  },
  {
   "cell_type": "markdown",
   "id": "67b6df00",
   "metadata": {},
   "source": [
    "$σ_Y = \\sqrt {D[Y]} = $"
   ]
  },
  {
   "cell_type": "code",
   "execution_count": 14,
   "id": "30d3abd6",
   "metadata": {
    "scrolled": true
   },
   "outputs": [
    {
     "data": {
      "text/plain": [
       "300.0"
      ]
     },
     "execution_count": 14,
     "metadata": {},
     "output_type": "execute_result"
    }
   ],
   "source": [
    "round(90000.0**0.5, 3)"
   ]
  },
  {
   "cell_type": "markdown",
   "id": "a2bab174",
   "metadata": {},
   "source": [
    "# Відповідь\n",
    "$σ_X = 390.512$\n",
    "\n",
    "$σ_Y = 300.0$\n",
    "\n",
    "$σ_Y < σ_X$\n",
    "\n",
    "Оскільки середньоквадратичне відхилення для 𝑌 менше за середньоквадратичне відхилення для 𝑋, то випуск товарів з набору 𝑌 є більшщ доцільним."
   ]
  }
 ],
 "metadata": {
  "kernelspec": {
   "display_name": "Python 3 (ipykernel)",
   "language": "python",
   "name": "python3"
  },
  "language_info": {
   "codemirror_mode": {
    "name": "ipython",
    "version": 3
   },
   "file_extension": ".py",
   "mimetype": "text/x-python",
   "name": "python",
   "nbconvert_exporter": "python",
   "pygments_lexer": "ipython3",
   "version": "3.10.6"
  }
 },
 "nbformat": 4,
 "nbformat_minor": 5
}
