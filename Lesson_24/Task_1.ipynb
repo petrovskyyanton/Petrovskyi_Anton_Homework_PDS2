{
 "cells": [
  {
   "cell_type": "markdown",
   "id": "9a3351c5",
   "metadata": {},
   "source": [
    "# Задача"
   ]
  },
  {
   "cell_type": "markdown",
   "id": "3408d603",
   "metadata": {},
   "source": [
    "Два економісти заповнюють документи з власними прогнозами щодо курсу певних коштовних паперів, після чого їх складають у спільну папку. Ймовірність відхилення прогнозованого значення курсу від фактичного понад допустиму похибку для першого економіста дорівнює 0,1; для другого – 0,2. Перший економіст заповнив 40 документів, другий – 60. Під час перевірки навмання взятий із папки документ виявився з суттєвою похибкою. Визначити ймовірність того, що його склав перший економіст. "
   ]
  },
  {
   "cell_type": "markdown",
   "id": "a2019746",
   "metadata": {},
   "source": [
    "# Розв'язок\n"
   ]
  },
  {
   "cell_type": "markdown",
   "id": "d0abd240",
   "metadata": {},
   "source": [
    "Нехай події: $H_1$ – документ заповнив перший економіст; $H_2$, – документ заповнив другий економіст, А – навмання взятий із папки документ виявився з суттєвою похибкою.\n",
    "\n",
    "Тоді ймовірність того, що цей документ заповнив перший економіст – $P(H_1)$ = $\\frac {40}{40+60}$ = 0,4;\n",
    "\n",
    "другий – $P(H_2)$ = $\\frac {60}{60+60}$ = 0,6. \n",
    "\n",
    "Ймовірність похибки для першого і другого економістів відповідно:\n",
    "\n",
    "$P(A|H_1) = 0,1; P(A|H_2) = 0,2$"
   ]
  },
  {
   "cell_type": "markdown",
   "id": "02c96064",
   "metadata": {},
   "source": [
    "За формулою повної ймовірності ймовірність того, що навмання взятий документ виявився з суттєвою похибкою:\n",
    "\n",
    "$P(A) = P(H_1)P(A|H_1) + P(H_2)P(A|H_2) = 0,4∙0,1 + 0,6∙0,2$ = \n"
   ]
  },
  {
   "cell_type": "code",
   "execution_count": 1,
   "id": "a855b8ae",
   "metadata": {},
   "outputs": [
    {
     "data": {
      "text/plain": [
       "0.16"
      ]
     },
     "execution_count": 1,
     "metadata": {},
     "output_type": "execute_result"
    }
   ],
   "source": [
    "0.4*0.1 + 0.6*0.2"
   ]
  },
  {
   "cell_type": "markdown",
   "id": "e93691e6",
   "metadata": {},
   "source": [
    "Згідно з формули Баєса:\n",
    "\n",
    "\n",
    "$P(H_1|A) = \\frac {P(A|H_1)∙P(H_1)}{P(A)}$ ="
   ]
  },
  {
   "cell_type": "code",
   "execution_count": 3,
   "id": "d4ae98a6",
   "metadata": {},
   "outputs": [
    {
     "data": {
      "text/plain": [
       "0.25"
      ]
     },
     "execution_count": 3,
     "metadata": {},
     "output_type": "execute_result"
    }
   ],
   "source": [
    "round((0.1*0.4)/(0.16), 3)"
   ]
  },
  {
   "cell_type": "markdown",
   "id": "b386c04e",
   "metadata": {},
   "source": [
    "# Відповідь"
   ]
  },
  {
   "cell_type": "markdown",
   "id": "4793e181",
   "metadata": {},
   "source": [
    "Ймовірність того, що навмання взятий із папки документ з суттєвою похибкою склав перший економіст становить:\n",
    "$P(H_1|A) = 0.25$"
   ]
  }
 ],
 "metadata": {
  "kernelspec": {
   "display_name": "Python 3 (ipykernel)",
   "language": "python",
   "name": "python3"
  },
  "language_info": {
   "codemirror_mode": {
    "name": "ipython",
    "version": 3
   },
   "file_extension": ".py",
   "mimetype": "text/x-python",
   "name": "python",
   "nbconvert_exporter": "python",
   "pygments_lexer": "ipython3",
   "version": "3.10.6"
  }
 },
 "nbformat": 4,
 "nbformat_minor": 5
}
