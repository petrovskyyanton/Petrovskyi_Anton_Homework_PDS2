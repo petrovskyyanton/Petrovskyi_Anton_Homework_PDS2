{
 "cells": [
  {
   "cell_type": "markdown",
   "id": "1b3559c2",
   "metadata": {},
   "source": [
    "# Завдання\n",
    "У рибальскому містечку 99,99% чоовіків хоча б раз були на рибалці. Проводять оціологічні дослідження серед 10000 навмання вибраних чоловіків. Визначити дисперсію D(X) і середнє квадратичне відхилення S(X) випадквої величини X - числа чоловіків, які жодного разу не були на рибаці."
   ]
  },
  {
   "cell_type": "markdown",
   "id": "8b53a9ce",
   "metadata": {},
   "source": [
    "# Розв'язок"
   ]
  },
  {
   "cell_type": "markdown",
   "id": "9c35b42c",
   "metadata": {},
   "source": [
    "Визначимо ймовірність того, що навмання взятий чоловік ніколи не був на рибалці:\n",
    "$p = \\frac{100-99,99}{100} = $"
   ]
  },
  {
   "cell_type": "code",
   "execution_count": 3,
   "id": "e5bbd614",
   "metadata": {},
   "outputs": [
    {
     "name": "stdout",
     "output_type": "stream",
     "text": [
      "p=0.0001\n"
     ]
    }
   ],
   "source": [
    "print(f'p={round((100-99.99)/100, 5)}')"
   ]
  },
  {
   "cell_type": "markdown",
   "id": "5106c5a8",
   "metadata": {},
   "source": [
    "Оскільки кількість випробовувань велика $(n=10000)$; ймовірність поломки близька до нуля $(p=0,0001)$, а їх добуток $a=np=10000∙0,0001=1<10$, то умови задачі підпадають під розподіл Пуассона."
   ]
  },
  {
   "cell_type": "markdown",
   "id": "366a5e22",
   "metadata": {},
   "source": [
    "Для пуассонівського закону розподілу ймовірностей математичне сподівання і дисперсія рівні добутку кількості дослідів на ймовірність сприятливої події $M(X) = D(X) = a$"
   ]
  },
  {
   "cell_type": "markdown",
   "id": "a1500be3",
   "metadata": {},
   "source": [
    "$M(X) = n∙p = $"
   ]
  },
  {
   "cell_type": "code",
   "execution_count": 4,
   "id": "22152519",
   "metadata": {
    "scrolled": true
   },
   "outputs": [
    {
     "name": "stdout",
     "output_type": "stream",
     "text": [
      "Математичне очікування 1.0\n"
     ]
    }
   ],
   "source": [
    "print(f'Математичне очікування {round(10000*0.0001, 3)}')"
   ]
  },
  {
   "cell_type": "markdown",
   "id": "4596d099",
   "metadata": {},
   "source": [
    "$\\sigma = \\sqrt{D[X]} = \\sqrt{n∙p} =$"
   ]
  },
  {
   "cell_type": "code",
   "execution_count": 5,
   "id": "d1baae6b",
   "metadata": {
    "scrolled": true
   },
   "outputs": [
    {
     "name": "stdout",
     "output_type": "stream",
     "text": [
      "Середньоквадратичне відхилення 1.0\n"
     ]
    }
   ],
   "source": [
    "print(f'Середньоквадратичне відхилення {round((10000*0.0001)**0.5, 3)}')"
   ]
  }
 ],
 "metadata": {
  "kernelspec": {
   "display_name": "Python 3 (ipykernel)",
   "language": "python",
   "name": "python3"
  },
  "language_info": {
   "codemirror_mode": {
    "name": "ipython",
    "version": 3
   },
   "file_extension": ".py",
   "mimetype": "text/x-python",
   "name": "python",
   "nbconvert_exporter": "python",
   "pygments_lexer": "ipython3",
   "version": "3.10.6"
  }
 },
 "nbformat": 4,
 "nbformat_minor": 5
}
