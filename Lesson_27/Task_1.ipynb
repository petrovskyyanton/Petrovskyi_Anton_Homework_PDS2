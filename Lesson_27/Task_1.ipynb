{
 "cells": [
  {
   "cell_type": "markdown",
   "id": "1b3559c2",
   "metadata": {},
   "source": [
    "# Завдання\n",
    "Мікропроцесор має 10000 транзисторів, які працюють незалежно один від одного. Імовірність того, що транзистор вийде з ладу під час роботи, є величиною малоймовірною і становить 0,0007. Визначити математичне очікування M(X) і середнє квадратичне відхилення S(X) випадкової величини X $-$ числа транзисторів, що вийдуть з ладу під час роботи мікропроцесора."
   ]
  },
  {
   "cell_type": "markdown",
   "id": "8b53a9ce",
   "metadata": {},
   "source": [
    "# Розв'язок"
   ]
  },
  {
   "cell_type": "markdown",
   "id": "5106c5a8",
   "metadata": {},
   "source": [
    "Оскільки кількість випробовувань велика $(n=10000)$; ймовірність поломки близька до нуля $(p=0,0007)$, а їх добуток $a=np=10000∙0,0007=7<10$, то умови задачі підпадають під розподіл Пуассона."
   ]
  },
  {
   "cell_type": "markdown",
   "id": "366a5e22",
   "metadata": {},
   "source": [
    "Для пуассонівського закону розподілу ймовірностей математичне сподівання і дисперсія рівні добутку кількості дослідів на ймовірність сприятливої події $M(X) = D(X) = a$"
   ]
  },
  {
   "cell_type": "markdown",
   "id": "a1500be3",
   "metadata": {},
   "source": [
    "$M(X) = n∙p = $"
   ]
  },
  {
   "cell_type": "code",
   "execution_count": 3,
   "id": "22152519",
   "metadata": {},
   "outputs": [
    {
     "name": "stdout",
     "output_type": "stream",
     "text": [
      "Математичне очікування 7.0\n"
     ]
    }
   ],
   "source": [
    "print(f'Математичне очікування {round(10000*0.0007, 3)}')"
   ]
  },
  {
   "cell_type": "markdown",
   "id": "4596d099",
   "metadata": {},
   "source": [
    "$\\sigma = \\sqrt{D[X]} = \\sqrt{n∙p} =$"
   ]
  },
  {
   "cell_type": "code",
   "execution_count": 5,
   "id": "d1baae6b",
   "metadata": {},
   "outputs": [
    {
     "name": "stdout",
     "output_type": "stream",
     "text": [
      "Середньоквадратичне відхилення 2.646\n"
     ]
    }
   ],
   "source": [
    "print(f'Середньоквадратичне відхилення {round((10000*0.0007)**0.5, 3)}')"
   ]
  }
 ],
 "metadata": {
  "kernelspec": {
   "display_name": "Python 3 (ipykernel)",
   "language": "python",
   "name": "python3"
  },
  "language_info": {
   "codemirror_mode": {
    "name": "ipython",
    "version": 3
   },
   "file_extension": ".py",
   "mimetype": "text/x-python",
   "name": "python",
   "nbconvert_exporter": "python",
   "pygments_lexer": "ipython3",
   "version": "3.10.6"
  }
 },
 "nbformat": 4,
 "nbformat_minor": 5
}
