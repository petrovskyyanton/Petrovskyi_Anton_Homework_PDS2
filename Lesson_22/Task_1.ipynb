{
 "cells": [
  {
   "cell_type": "markdown",
   "id": "57173a00",
   "metadata": {},
   "source": [
    "# Задача\n",
    "За підсумками іспитів з 37 студентів відмінну оцінку з математики мали 15 студентів, з фізики - 16, з хімії - 19, з математики та фізики - 7, з математики та хімії - 9, з фізики та хімії - 6, з усіх трьох дисциплін - 4. Скільки студентів отримали хоча б по одній відмінній оцінці?"
   ]
  },
  {
   "cell_type": "markdown",
   "id": "853da707",
   "metadata": {},
   "source": [
    "# Розв'язок\n",
    "Створюємо множину всіх 37 студентів. "
   ]
  },
  {
   "cell_type": "code",
   "execution_count": 6,
   "id": "a62d4078",
   "metadata": {
    "scrolled": false
   },
   "outputs": [
    {
     "name": "stdout",
     "output_type": "stream",
     "text": [
      "{'Student № 26', 'Student № 37', 'Student № 19', 'Student № 30', 'Student № 4', 'Student № 36', 'Student № 8', 'Student № 18', 'Student № 20', 'Student № 11', 'Student № 7', 'Student № 16', 'Student № 35', 'Student № 21', 'Student № 27', 'Student № 17', 'Student № 12', 'Student № 9', 'Student № 3', 'Student № 31', 'Student № 22', 'Student № 5', 'Student № 29', 'Student № 25', 'Student № 13', 'Student № 2', 'Student № 28', 'Student № 24', 'Student № 14', 'Student № 1', 'Student № 23', 'Student № 32', 'Student № 6', 'Student № 15', 'Student № 33', 'Student № 34', 'Student № 10'}\n"
     ]
    }
   ],
   "source": [
    "set_of_students = {f'Student № {i}' for i in range(1, 38)}\n",
    "print(set_of_students)"
   ]
  },
  {
   "cell_type": "markdown",
   "id": "0ae34e22",
   "metadata": {},
   "source": [
    "Створюємо множину студентів, які отримали відмінні оцінки з 3-х дисциплін \n",
    "(перетин 3-х множин студентів, які отримали відмінні оцінки з фізики, хімії та математики). Нехай вони матимуть номери від 1 до 4."
   ]
  },
  {
   "cell_type": "code",
   "execution_count": 7,
   "id": "f556990c",
   "metadata": {},
   "outputs": [
    {
     "name": "stdout",
     "output_type": "stream",
     "text": [
      "{'Student № 4', 'Student № 1', 'Student № 3', 'Student № 2'}\n"
     ]
    }
   ],
   "source": [
    "math_and_physics_and_chemistry = {f'Student № {i}' for i in range(1, 5)}\n",
    "print(math_and_physics_and_chemistry)"
   ]
  },
  {
   "cell_type": "markdown",
   "id": "10f97ad0",
   "metadata": {},
   "source": [
    "Створюємо множину студентів, які отримали відмінні оцінки з математики та фізики.\n",
    "В неї входить в якості підмножини множина студентів, які отримали відмінні оцінки з 3-х дисциплін. Нехай решта студентів матимуть номери від 5 до 7. (7-4 = 3)"
   ]
  },
  {
   "cell_type": "code",
   "execution_count": 8,
   "id": "3b57ce01",
   "metadata": {
    "scrolled": true
   },
   "outputs": [
    {
     "name": "stdout",
     "output_type": "stream",
     "text": [
      "{'Student № 6', 'Student № 5', 'Student № 7', 'Student № 1', 'Student № 4', 'Student № 3', 'Student № 2'}\n"
     ]
    }
   ],
   "source": [
    "math_and_physics = math_and_physics_and_chemistry.union({f'Student № {i}' for i in range(5, 8)})\n",
    "print(math_and_physics)"
   ]
  },
  {
   "cell_type": "markdown",
   "id": "944ede6a",
   "metadata": {},
   "source": [
    "Створюємо множину студентів, які отримали відмінні оцінки з математики та хімії. В неї входить в якості підмножини множина студентів, які отримали відмінні оцінки з 3-х дисциплін. Нехай решта студентів матимуть номери від 8 до 12. (9-4 = 5)"
   ]
  },
  {
   "cell_type": "code",
   "execution_count": 9,
   "id": "00540473",
   "metadata": {},
   "outputs": [
    {
     "name": "stdout",
     "output_type": "stream",
     "text": [
      "{'Student № 11', 'Student № 10', 'Student № 4', 'Student № 1', 'Student № 8', 'Student № 12', 'Student № 9', 'Student № 3', 'Student № 2'}\n"
     ]
    }
   ],
   "source": [
    "math_and_chemistry = math_and_physics_and_chemistry.union({f'Student № {i}' for i in range(8, 13)})\n",
    "print(math_and_chemistry)"
   ]
  },
  {
   "cell_type": "markdown",
   "id": "c72d51ee",
   "metadata": {},
   "source": [
    "Створюємо множину студентів, які отримали відмінні оцінки з фізики та хімії. В неї входить в якості підмножини множина студентів, які отримали відмінні оцінки з 3-х дисциплін. Нехай решта студентів матимуть номери від 13 до 14. (6-4 = 2)"
   ]
  },
  {
   "cell_type": "code",
   "execution_count": 10,
   "id": "07d07768",
   "metadata": {
    "scrolled": true
   },
   "outputs": [
    {
     "name": "stdout",
     "output_type": "stream",
     "text": [
      "{'Student № 13', 'Student № 14', 'Student № 1', 'Student № 4', 'Student № 3', 'Student № 2'}\n"
     ]
    }
   ],
   "source": [
    "physics_and_chemistry = math_and_physics_and_chemistry.union({f'Student № {i}' for i in range(13, 15)})\n",
    "print(physics_and_chemistry)"
   ]
  },
  {
   "cell_type": "markdown",
   "id": "ef66aed4",
   "metadata": {},
   "source": [
    "Розглянемо множину студентів, які отримали відмінні оцінки з математики. \n",
    "В неї входять в якості підмножин:\n",
    "1. множина студентів, які отримали відмінні оцінки з 3-х дисциплін (4 студента);\n",
    "2. множина студентів, що отримали відмінні оцінки з математики та фізики (7);\n",
    "3. множина студентів, що отримали відмінні оцінки з математики та хімії (9)."
   ]
  },
  {
   "cell_type": "markdown",
   "id": "306b9bb8",
   "metadata": {},
   "source": [
    "Визначимо множину студентів, які отримали відмінні оцінки з математики та якоїсь іншої дисципліни (або хімії, або фізики)."
   ]
  },
  {
   "cell_type": "code",
   "execution_count": 11,
   "id": "39c292a5",
   "metadata": {},
   "outputs": [
    {
     "name": "stdout",
     "output_type": "stream",
     "text": [
      "{'Student № 5', 'Student № 4', 'Student № 8', 'Student № 2', 'Student № 11', 'Student № 7', 'Student № 1', 'Student № 6', 'Student № 12', 'Student № 9', 'Student № 3', 'Student № 10'}\n",
      "12\n"
     ]
    }
   ],
   "source": [
    "math_and_other = math_and_physics.union(math_and_chemistry)\n",
    "print(math_and_other)\n",
    "print(len(math_and_other))"
   ]
  },
  {
   "cell_type": "markdown",
   "id": "da8b3365",
   "metadata": {},
   "source": [
    "Визначимо кількість студентів, які отримали відмінну оцінку лише з математики:"
   ]
  },
  {
   "cell_type": "code",
   "execution_count": 12,
   "id": "5529e529",
   "metadata": {},
   "outputs": [
    {
     "data": {
      "text/plain": [
       "3"
      ]
     },
     "execution_count": 12,
     "metadata": {},
     "output_type": "execute_result"
    }
   ],
   "source": [
    "15-12"
   ]
  },
  {
   "cell_type": "markdown",
   "id": "ad070344",
   "metadata": {},
   "source": [
    "Створимо множину студентів, які отримали відмінні оцінки з математики. \n",
    "Нехай решта студентів матимуть номери від 15 до 17."
   ]
  },
  {
   "cell_type": "code",
   "execution_count": 13,
   "id": "4ecad887",
   "metadata": {},
   "outputs": [
    {
     "name": "stdout",
     "output_type": "stream",
     "text": [
      "{'Student № 11', 'Student № 5', 'Student № 10', 'Student № 7', 'Student № 4', 'Student № 1', 'Student № 16', 'Student № 15', 'Student № 8', 'Student № 6', 'Student № 17', 'Student № 12', 'Student № 9', 'Student № 3', 'Student № 2'}\n"
     ]
    }
   ],
   "source": [
    "math = math_and_other.union({f'Student № {i}' for i in range(15, 18)})\n",
    "print(math)"
   ]
  },
  {
   "cell_type": "markdown",
   "id": "14b37e82",
   "metadata": {},
   "source": [
    "Розглянемо множину студентів, які отримали відмінні оцінки з фізики. \n",
    "В неї входять в якості підмножин:\n",
    "1. множина студентів, які отримали відмінні оцінки з 3-х дисциплін (4 студента);\n",
    "2. множина студентів, що отримали відмінні оцінки з математики та фізики (7);\n",
    "3. множина студентів, що отримали відмінні оцінки з фізики та хімії (6)."
   ]
  },
  {
   "cell_type": "markdown",
   "id": "6eab5340",
   "metadata": {},
   "source": [
    "Визначимо множину студентів, які отримали відмінні оцінки з фізики та якоїсь іншої дисципліни (або хімії, або математики)."
   ]
  },
  {
   "cell_type": "code",
   "execution_count": 14,
   "id": "b2ab1d93",
   "metadata": {},
   "outputs": [
    {
     "name": "stdout",
     "output_type": "stream",
     "text": [
      "{'Student № 5', 'Student № 7', 'Student № 1', 'Student № 4', 'Student № 14', 'Student № 13', 'Student № 6', 'Student № 3', 'Student № 2'}\n",
      "9\n"
     ]
    }
   ],
   "source": [
    "physics_and_other = math_and_physics.union(physics_and_chemistry)\n",
    "print(physics_and_other)\n",
    "print(len(physics_and_other))"
   ]
  },
  {
   "cell_type": "markdown",
   "id": "9bd27db1",
   "metadata": {},
   "source": [
    "Визначимо кількість студентів, які отримали відмінну оцінку лише з фізики:"
   ]
  },
  {
   "cell_type": "code",
   "execution_count": 15,
   "id": "b0199d3e",
   "metadata": {},
   "outputs": [
    {
     "data": {
      "text/plain": [
       "7"
      ]
     },
     "execution_count": 15,
     "metadata": {},
     "output_type": "execute_result"
    }
   ],
   "source": [
    "16 - 9"
   ]
  },
  {
   "cell_type": "markdown",
   "id": "73066828",
   "metadata": {},
   "source": [
    "Створимо множину студентів, які отримали відмінні оцінки з фізики. Нехай решта студентів матимуть номери від 18 до 24."
   ]
  },
  {
   "cell_type": "code",
   "execution_count": 16,
   "id": "7562ecd6",
   "metadata": {
    "scrolled": false
   },
   "outputs": [
    {
     "name": "stdout",
     "output_type": "stream",
     "text": [
      "{'Student № 22', 'Student № 19', 'Student № 5', 'Student № 24', 'Student № 7', 'Student № 1', 'Student № 4', 'Student № 14', 'Student № 23', 'Student № 13', 'Student № 21', 'Student № 20', 'Student № 6', 'Student № 18', 'Student № 3', 'Student № 2'}\n"
     ]
    }
   ],
   "source": [
    "physics = physics_and_other.union({f'Student № {i}' for i in range(18, 25)})\n",
    "print(physics)"
   ]
  },
  {
   "cell_type": "markdown",
   "id": "96755195",
   "metadata": {},
   "source": [
    "Розглянемо множину студентів, які отримали відмінні оцінки з хімії. \n",
    "В неї входять в якості підмножин:\n",
    "1. множина студентів, які отримали відмінні оцінки з 3-х дисциплін (4 студента);\n",
    "2. множина студентів, що отримали відмінні оцінки з математики та хімії (9);\n",
    "3. множина студентів, що отримали відмінні оцінки з фізики та хімії (6)."
   ]
  },
  {
   "cell_type": "markdown",
   "id": "f6631ce8",
   "metadata": {},
   "source": [
    "Визначимо множину студентів, які отримали відмінні оцінки з хімії та якоїсь іншої дисципліни (або фізики, або математики)."
   ]
  },
  {
   "cell_type": "code",
   "execution_count": 17,
   "id": "b0b13c85",
   "metadata": {
    "scrolled": true
   },
   "outputs": [
    {
     "name": "stdout",
     "output_type": "stream",
     "text": [
      "{'Student № 11', 'Student № 10', 'Student № 14', 'Student № 1', 'Student № 4', 'Student № 13', 'Student № 8', 'Student № 12', 'Student № 9', 'Student № 3', 'Student № 2'}\n",
      "11\n"
     ]
    }
   ],
   "source": [
    "chemistry_and_other = physics_and_chemistry.union(math_and_chemistry)\n",
    "print(chemistry_and_other)\n",
    "print(len(chemistry_and_other))"
   ]
  },
  {
   "cell_type": "markdown",
   "id": "cdda747d",
   "metadata": {},
   "source": [
    "Визначимо кількість студентів, які отримали відмінну оцінку лише з хімії:"
   ]
  },
  {
   "cell_type": "code",
   "execution_count": 18,
   "id": "a321f8e8",
   "metadata": {},
   "outputs": [
    {
     "data": {
      "text/plain": [
       "8"
      ]
     },
     "execution_count": 18,
     "metadata": {},
     "output_type": "execute_result"
    }
   ],
   "source": [
    "19 - 11"
   ]
  },
  {
   "cell_type": "markdown",
   "id": "8ca021bd",
   "metadata": {},
   "source": [
    "Створимо множину студентів, які отримали відмінні оцінки з хімії. Нехай решта студентів матимуть номери від 25 до 32."
   ]
  },
  {
   "cell_type": "code",
   "execution_count": 19,
   "id": "37ad7ba7",
   "metadata": {},
   "outputs": [
    {
     "name": "stdout",
     "output_type": "stream",
     "text": [
      "{'Student № 26', 'Student № 29', 'Student № 25', 'Student № 30', 'Student № 4', 'Student № 13', 'Student № 8', 'Student № 2', 'Student № 28', 'Student № 11', 'Student № 14', 'Student № 1', 'Student № 32', 'Student № 27', 'Student № 12', 'Student № 9', 'Student № 3', 'Student № 31', 'Student № 10'}\n"
     ]
    }
   ],
   "source": [
    "chemistry = chemistry_and_other.union({f'Student № {i}' for i in range(25, 33)})\n",
    "print(chemistry)"
   ]
  },
  {
   "cell_type": "markdown",
   "id": "f815c5c6",
   "metadata": {},
   "source": [
    "Визначимо, скільки студентів отримали хоча б одну відмінну оцінку (об'єднання трьох множин):"
   ]
  },
  {
   "cell_type": "code",
   "execution_count": 20,
   "id": "a5049039",
   "metadata": {},
   "outputs": [
    {
     "name": "stdout",
     "output_type": "stream",
     "text": [
      "32 студентів отримали хоча б по одній відмінній оцінці\n"
     ]
    }
   ],
   "source": [
    "student_with_good_marks = math.union(chemistry, physics)\n",
    "answer = len(student_with_good_marks)\n",
    "print(f'{answer} студентів отримали хоча б по одній відмінній оцінці')"
   ]
  },
  {
   "cell_type": "markdown",
   "id": "4044ad95",
   "metadata": {},
   "source": [
    "![Alt-text](Task_1.png 'Venn Diagram')"
   ]
  },
  {
   "cell_type": "code",
   "execution_count": null,
   "id": "49ef8f51",
   "metadata": {},
   "outputs": [],
   "source": []
  }
 ],
 "metadata": {
  "kernelspec": {
   "display_name": "Python 3 (ipykernel)",
   "language": "python",
   "name": "python3"
  },
  "language_info": {
   "codemirror_mode": {
    "name": "ipython",
    "version": 3
   },
   "file_extension": ".py",
   "mimetype": "text/x-python",
   "name": "python",
   "nbconvert_exporter": "python",
   "pygments_lexer": "ipython3",
   "version": "3.10.6"
  }
 },
 "nbformat": 4,
 "nbformat_minor": 5
}
