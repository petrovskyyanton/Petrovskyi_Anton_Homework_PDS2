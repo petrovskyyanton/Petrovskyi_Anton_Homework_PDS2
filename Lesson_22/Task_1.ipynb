{
 "cells": [
  {
   "cell_type": "markdown",
   "id": "57173a00",
   "metadata": {},
   "source": [
    "# Задача\n",
    "За підсумками іспитів з 37 студентів відмінну оцінку з математики мали 15 студентів, з фізики - 16, з хімії - 19, з математики та фізики - 7, з математики та хімії - 9, з фізики та хімії - 6, з усіх трьох дисциплін - 4. Скільки студентів отримали хоча б по одній відмінній оцінці?"
   ]
  },
  {
   "cell_type": "markdown",
   "id": "853da707",
   "metadata": {},
   "source": [
    "# Розв'язок\n",
    "Створюємо множину всіх 37 студентів. "
   ]
  },
  {
   "cell_type": "code",
   "execution_count": 3,
   "id": "a62d4078",
   "metadata": {
    "scrolled": false
   },
   "outputs": [
    {
     "name": "stdout",
     "output_type": "stream",
     "text": [
      "{'Student № 6', 'Student № 22', 'Student № 35', 'Student № 27', 'Student № 3', 'Student № 25', 'Student № 18', 'Student № 26', 'Student № 9', 'Student № 32', 'Student № 11', 'Student № 16', 'Student № 28', 'Student № 12', 'Student № 31', 'Student № 10', 'Student № 24', 'Student № 33', 'Student № 15', 'Student № 36', 'Student № 29', 'Student № 19', 'Student № 1', 'Student № 4', 'Student № 14', 'Student № 20', 'Student № 17', 'Student № 7', 'Student № 2', 'Student № 8', 'Student № 21', 'Student № 30', 'Student № 37', 'Student № 5', 'Student № 34', 'Student № 23', 'Student № 13'}\n"
     ]
    }
   ],
   "source": [
    "set_of_students = {f'Student № {i}' for i in range(1, 38)}\n",
    "print(set_of_students)"
   ]
  },
  {
   "cell_type": "markdown",
   "id": "0ae34e22",
   "metadata": {},
   "source": [
    "Створюємо множину студентів, які отримали відмінні оцінки з 3-х дисциплін \n",
    "(перетин 3-х множин студентів, які отримали відмінні оцінки з фізики, хімії та математики). Нехай вони матимуть номери від 1 до 4."
   ]
  },
  {
   "cell_type": "code",
   "execution_count": 4,
   "id": "f556990c",
   "metadata": {},
   "outputs": [
    {
     "name": "stdout",
     "output_type": "stream",
     "text": [
      "{'Student № 3', 'Student № 1', 'Student № 2', 'Student № 4'}\n"
     ]
    }
   ],
   "source": [
    "math_and_physics_and_chemistry = {f'Student № {i}' for i in range(1, 5)}\n",
    "print(math_and_physics_and_chemistry)"
   ]
  },
  {
   "cell_type": "markdown",
   "id": "10f97ad0",
   "metadata": {},
   "source": [
    "Створюємо множину студентів, які отримали відмінні оцінки з математики та фізики.\n",
    "В неї входить в якості підмножини множина студентів, які отримали відмінні оцінки з 3-х дисциплін. Нехай решта студентів матимуть номери від 5 до 7. (7-4 = 3)"
   ]
  },
  {
   "cell_type": "code",
   "execution_count": 5,
   "id": "3b57ce01",
   "metadata": {
    "scrolled": true
   },
   "outputs": [
    {
     "name": "stdout",
     "output_type": "stream",
     "text": [
      "{'Student № 5', 'Student № 6', 'Student № 1', 'Student № 4', 'Student № 2', 'Student № 3', 'Student № 7'}\n"
     ]
    }
   ],
   "source": [
    "math_and_physics = math_and_physics_and_chemistry.union({f'Student № {i}' for i in range(5, 8)})\n",
    "print(math_and_physics)"
   ]
  },
  {
   "cell_type": "markdown",
   "id": "944ede6a",
   "metadata": {},
   "source": [
    "Створюємо множину студентів, які отримали відмінні оцінки з математики та хімії. В неї входить в якості підмножини множина студентів, які отримали відмінні оцінки з 3-х дисциплін. Нехай решта студентів матимуть номери від 8 до 12. (9-4 = 5)"
   ]
  },
  {
   "cell_type": "code",
   "execution_count": 6,
   "id": "00540473",
   "metadata": {},
   "outputs": [
    {
     "name": "stdout",
     "output_type": "stream",
     "text": [
      "{'Student № 2', 'Student № 11', 'Student № 3', 'Student № 8', 'Student № 12', 'Student № 10', 'Student № 1', 'Student № 4', 'Student № 9'}\n"
     ]
    }
   ],
   "source": [
    "math_and_chemistry = math_and_physics_and_chemistry.union({f'Student № {i}' for i in range(8, 13)})\n",
    "print(math_and_chemistry)"
   ]
  },
  {
   "cell_type": "markdown",
   "id": "c72d51ee",
   "metadata": {},
   "source": [
    "Створюємо множину студентів, які отримали відмінні оцінки з фізики та хімії. В неї входить в якості підмножини множина студентів, які отримали відмінні оцінки з 3-х дисциплін. Нехай решта студентів матимуть номери від 13 до 14. (6-4 = 2)"
   ]
  },
  {
   "cell_type": "code",
   "execution_count": 7,
   "id": "07d07768",
   "metadata": {
    "scrolled": true
   },
   "outputs": [
    {
     "name": "stdout",
     "output_type": "stream",
     "text": [
      "{'Student № 1', 'Student № 4', 'Student № 2', 'Student № 14', 'Student № 3', 'Student № 13'}\n"
     ]
    }
   ],
   "source": [
    "physics_and_chemistry = math_and_physics_and_chemistry.union({f'Student № {i}' for i in range(13, 15)})\n",
    "print(physics_and_chemistry)"
   ]
  },
  {
   "cell_type": "markdown",
   "id": "ef66aed4",
   "metadata": {},
   "source": [
    "Розглянемо множину студентів, які отримали відмінні оцінки з математики. \n",
    "В неї входять в якості підмножин:\n",
    "1. множина студентів, які отримали відмінні оцінки з 3-х дисциплін (4 студента);\n",
    "2. множина студентів, що отримали відмінні оцінки з математики та фізики (7);\n",
    "3. множина студентів, що отримали відмінні оцінки з математики та хімії (9)."
   ]
  },
  {
   "cell_type": "markdown",
   "id": "433171b4",
   "metadata": {},
   "source": [
    "Визначимо різницю між парами множин math_and_physics і math_and_chemistry:"
   ]
  },
  {
   "cell_type": "code",
   "execution_count": 8,
   "id": "39c292a5",
   "metadata": {},
   "outputs": [
    {
     "name": "stdout",
     "output_type": "stream",
     "text": [
      "{'Student № 5', 'Student № 6', 'Student № 7'}\n",
      "3\n"
     ]
    }
   ],
   "source": [
    "difference_between_sets_1 = math_and_physics.difference(math_and_chemistry)\n",
    "print(difference_between_sets_1)\n",
    "print(len(difference_between_sets_1))"
   ]
  },
  {
   "cell_type": "markdown",
   "id": "da8b3365",
   "metadata": {},
   "source": [
    "Визначимо кількість студентів, які отримали відмінну оцінку лише з математики:"
   ]
  },
  {
   "cell_type": "code",
   "execution_count": 9,
   "id": "5529e529",
   "metadata": {},
   "outputs": [
    {
     "data": {
      "text/plain": [
       "3"
      ]
     },
     "execution_count": 9,
     "metadata": {},
     "output_type": "execute_result"
    }
   ],
   "source": [
    "15-4-3-(9-4)"
   ]
  },
  {
   "cell_type": "markdown",
   "id": "ad070344",
   "metadata": {},
   "source": [
    "Створимо множину студентів, які отримали відмінні оцінки з математики. \n",
    "Нехай решта студентів матимуть номери від 15 до 17."
   ]
  },
  {
   "cell_type": "code",
   "execution_count": 10,
   "id": "4ecad887",
   "metadata": {},
   "outputs": [
    {
     "name": "stdout",
     "output_type": "stream",
     "text": [
      "{'Student № 6', 'Student № 15', 'Student № 2', 'Student № 11', 'Student № 9', 'Student № 16', 'Student № 3', 'Student № 17', 'Student № 8', 'Student № 12', 'Student № 10', 'Student № 5', 'Student № 1', 'Student № 4', 'Student № 7'}\n"
     ]
    }
   ],
   "source": [
    "math = difference_between_sets_1.union(math_and_chemistry, {f'Student № {i}' for i in range(15, 18)})\n",
    "print(math)"
   ]
  },
  {
   "cell_type": "markdown",
   "id": "14b37e82",
   "metadata": {},
   "source": [
    "Розглянемо множину студентів, які отримали відмінні оцінки з фізики. \n",
    "В неї входять в якості підмножин:\n",
    "1. множина студентів, які отримали відмінні оцінки з 3-х дисциплін (4 студента);\n",
    "2. множина студентів, що отримали відмінні оцінки з математики та фізики (7);\n",
    "3. множина студентів, що отримали відмінні оцінки з фізики та хімії (6)."
   ]
  },
  {
   "cell_type": "markdown",
   "id": "9bd27db1",
   "metadata": {},
   "source": [
    "Визначимо кількість студентів, які отримали відмінну оцінку лише з фізики:"
   ]
  },
  {
   "cell_type": "code",
   "execution_count": 40,
   "id": "b0199d3e",
   "metadata": {},
   "outputs": [
    {
     "data": {
      "text/plain": [
       "7"
      ]
     },
     "execution_count": 40,
     "metadata": {},
     "output_type": "execute_result"
    }
   ],
   "source": [
    "16 - 3 - 6"
   ]
  },
  {
   "cell_type": "markdown",
   "id": "73066828",
   "metadata": {},
   "source": [
    "Створимо множину студентів, які отримали відмінні оцінки з фізики. Нехай решта студентів матимуть номери від 18 до 24."
   ]
  },
  {
   "cell_type": "code",
   "execution_count": 11,
   "id": "7562ecd6",
   "metadata": {
    "scrolled": false
   },
   "outputs": [
    {
     "name": "stdout",
     "output_type": "stream",
     "text": [
      "{'Student № 6', 'Student № 22', 'Student № 2', 'Student № 3', 'Student № 21', 'Student № 5', 'Student № 18', 'Student № 1', 'Student № 4', 'Student № 14', 'Student № 19', 'Student № 20', 'Student № 24', 'Student № 7', 'Student № 23', 'Student № 13'}\n"
     ]
    }
   ],
   "source": [
    "physics = difference_between_sets_1.union(physics_and_chemistry, {f'Student № {i}' for i in range(18, 25)})\n",
    "print(physics)"
   ]
  },
  {
   "cell_type": "markdown",
   "id": "96755195",
   "metadata": {},
   "source": [
    "Розглянемо множину студентів, які отримали відмінні оцінки з хімії. \n",
    "В неї входять в якості підмножин:\n",
    "1. множина студентів, які отримали відмінні оцінки з 3-х дисциплін (4 студента);\n",
    "2. множина студентів, що отримали відмінні оцінки з математики та хімії (9);\n",
    "3. множина студентів, що отримали відмінні оцінки з фізики та хімії (6)."
   ]
  },
  {
   "cell_type": "markdown",
   "id": "f6631ce8",
   "metadata": {},
   "source": [
    "Визначимо різницю між парами множин physics_and_chemistry і math_and_chemistry:"
   ]
  },
  {
   "cell_type": "code",
   "execution_count": 12,
   "id": "b0b13c85",
   "metadata": {
    "scrolled": true
   },
   "outputs": [
    {
     "name": "stdout",
     "output_type": "stream",
     "text": [
      "{'Student № 14', 'Student № 13'}\n",
      "2\n"
     ]
    }
   ],
   "source": [
    "difference_between_sets_2 = physics_and_chemistry.difference(math_and_chemistry)\n",
    "print(difference_between_sets_2)\n",
    "print(len(difference_between_sets_2))"
   ]
  },
  {
   "cell_type": "markdown",
   "id": "cdda747d",
   "metadata": {},
   "source": [
    "Визначимо кількість студентів, які отримали відмінну оцінку лише з хімії:"
   ]
  },
  {
   "cell_type": "code",
   "execution_count": 13,
   "id": "a321f8e8",
   "metadata": {},
   "outputs": [
    {
     "data": {
      "text/plain": [
       "8"
      ]
     },
     "execution_count": 13,
     "metadata": {},
     "output_type": "execute_result"
    }
   ],
   "source": [
    "19 - 2 - 9"
   ]
  },
  {
   "cell_type": "markdown",
   "id": "8ca021bd",
   "metadata": {},
   "source": [
    "Створимо множину студентів, які отримали відмінні оцінки з хімії. Нехай решта студентів матимуть номери від 25 до 32."
   ]
  },
  {
   "cell_type": "code",
   "execution_count": 15,
   "id": "37ad7ba7",
   "metadata": {},
   "outputs": [
    {
     "name": "stdout",
     "output_type": "stream",
     "text": [
      "{'Student № 27', 'Student № 3', 'Student № 29', 'Student № 25', 'Student № 1', 'Student № 14', 'Student № 4', 'Student № 26', 'Student № 9', 'Student № 32', 'Student № 2', 'Student № 11', 'Student № 28', 'Student № 8', 'Student № 12', 'Student № 30', 'Student № 31', 'Student № 10', 'Student № 13'}\n"
     ]
    }
   ],
   "source": [
    "chemistry = difference_between_sets_2.union(math_and_chemistry, {f'Student № {i}' for i in range(25, 33)})\n",
    "print(chemistry)"
   ]
  },
  {
   "cell_type": "markdown",
   "id": "f815c5c6",
   "metadata": {},
   "source": [
    "Визначимо, скільки студентів отримали хоча б одну відмінну оцінку (об'єднання трьох множин):"
   ]
  },
  {
   "cell_type": "code",
   "execution_count": 22,
   "id": "a5049039",
   "metadata": {},
   "outputs": [
    {
     "name": "stdout",
     "output_type": "stream",
     "text": [
      "32\n"
     ]
    }
   ],
   "source": [
    "answer = len(math.union(chemistry, physics))\n",
    "print(answer)"
   ]
  },
  {
   "cell_type": "markdown",
   "id": "4044ad95",
   "metadata": {},
   "source": [
    "![Alt-text](22.jpg 'Venn Diagram')"
   ]
  }
 ],
 "metadata": {
  "kernelspec": {
   "display_name": "Python 3 (ipykernel)",
   "language": "python",
   "name": "python3"
  },
  "language_info": {
   "codemirror_mode": {
    "name": "ipython",
    "version": 3
   },
   "file_extension": ".py",
   "mimetype": "text/x-python",
   "name": "python",
   "nbconvert_exporter": "python",
   "pygments_lexer": "ipython3",
   "version": "3.10.6"
  }
 },
 "nbformat": 4,
 "nbformat_minor": 5
}
