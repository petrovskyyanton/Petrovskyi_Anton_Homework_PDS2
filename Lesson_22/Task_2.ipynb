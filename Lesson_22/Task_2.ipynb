{
 "cells": [
  {
   "cell_type": "markdown",
   "id": "57173a00",
   "metadata": {},
   "source": [
    "# Задача\n",
    "Протягом 30 днів вересня було 12 дощових, 8 вітряних, 4 холодних, 5 дощових та вітряних, 3 дощових та холодних, 2 вітряних та холодних, а один день був дощовий, вітряний та холодний одночасно. Скільки днів у вересні була гарна погода?"
   ]
  },
  {
   "cell_type": "markdown",
   "id": "853da707",
   "metadata": {},
   "source": [
    "# Розв'язок\n",
    "Створюємо множину всіх 30 днів вересня. "
   ]
  },
  {
   "cell_type": "code",
   "execution_count": 1,
   "id": "a62d4078",
   "metadata": {
    "scrolled": false
   },
   "outputs": [
    {
     "name": "stdout",
     "output_type": "stream",
     "text": [
      "{'Day № 25', 'Day № 23', 'Day № 30', 'Day № 3', 'Day № 24', 'Day № 5', 'Day № 1', 'Day № 6', 'Day № 11', 'Day № 18', 'Day № 26', 'Day № 21', 'Day № 12', 'Day № 15', 'Day № 20', 'Day № 7', 'Day № 10', 'Day № 29', 'Day № 16', 'Day № 9', 'Day № 13', 'Day № 28', 'Day № 14', 'Day № 4', 'Day № 19', 'Day № 17', 'Day № 22', 'Day № 27', 'Day № 8', 'Day № 2'}\n"
     ]
    }
   ],
   "source": [
    "set_of_days = {f'Day № {i}' for i in range(1, 31)}\n",
    "print(set_of_days)"
   ]
  },
  {
   "cell_type": "markdown",
   "id": "0ae34e22",
   "metadata": {},
   "source": [
    "Створюємо множину днів, які були дощовими, вітряними та холодними.\n",
    "(перетин 3-х множин днів, які були дощовими, вітряними та холодними). Такий день був один. Нехай він матиме номер 1."
   ]
  },
  {
   "cell_type": "code",
   "execution_count": 6,
   "id": "f556990c",
   "metadata": {},
   "outputs": [
    {
     "name": "stdout",
     "output_type": "stream",
     "text": [
      "{'Day № 1'}\n"
     ]
    }
   ],
   "source": [
    "rain_and_wind_and_cold = {'Day № 1'}\n",
    "print(rain_wind_cold)"
   ]
  },
  {
   "cell_type": "markdown",
   "id": "10f97ad0",
   "metadata": {},
   "source": [
    "Створюємо множину днів, які були дощовими та вітряними.\n",
    "В неї входить в якості підмножини множина днів, які були дощовими, вітряними та холодними. Нехай решта днів матимуть номери від 2 до 5. (5-1 = 4)"
   ]
  },
  {
   "cell_type": "code",
   "execution_count": 7,
   "id": "3b57ce01",
   "metadata": {
    "scrolled": true
   },
   "outputs": [
    {
     "name": "stdout",
     "output_type": "stream",
     "text": [
      "{'Day № 3', 'Day № 4', 'Day № 2', 'Day № 5', 'Day № 1'}\n"
     ]
    }
   ],
   "source": [
    "rain_and_wind = rain_and_wind_and_cold.union({f'Day № {i}' for i in range(2, 6)})\n",
    "print(rain_and_wind)"
   ]
  },
  {
   "cell_type": "markdown",
   "id": "944ede6a",
   "metadata": {},
   "source": [
    "Створюємо множину днів, які були дощовими та холодними. В неї входить в якості підмножини множина днів, які були дощовими, вітряними та холодними. Нехай решта днів матимуть номери від 6 до 7. (3-1 = 2)"
   ]
  },
  {
   "cell_type": "code",
   "execution_count": 9,
   "id": "00540473",
   "metadata": {},
   "outputs": [
    {
     "name": "stdout",
     "output_type": "stream",
     "text": [
      "{'Day № 6', 'Day № 7', 'Day № 1'}\n"
     ]
    }
   ],
   "source": [
    "rain_and_cold = rain_and_wind_and_cold.union({f'Day № {i}' for i in range(6, 8)})\n",
    "print(rain_and_cold)"
   ]
  },
  {
   "cell_type": "markdown",
   "id": "c72d51ee",
   "metadata": {},
   "source": [
    "Створюємо множину днів, які були вітряними та холодними. В неї входить в якості підмножини множина днів, які були дощовими, вітряними та холодними. Нехай решта днів матимуть номери 8. (2-1 = 1)"
   ]
  },
  {
   "cell_type": "code",
   "execution_count": 17,
   "id": "07d07768",
   "metadata": {
    "scrolled": true
   },
   "outputs": [
    {
     "name": "stdout",
     "output_type": "stream",
     "text": [
      "{'Day № 1', 'Day № 8'}\n"
     ]
    }
   ],
   "source": [
    "wind_and_cold = rain_and_wind_and_cold.union({'Day № 8'})\n",
    "print(wind_and_cold)"
   ]
  },
  {
   "cell_type": "markdown",
   "id": "ef66aed4",
   "metadata": {},
   "source": [
    "Розглянемо множину студентів, які були дощовими. \n",
    "В неї входять в якості підмножин:\n",
    "1. множина днів, які були дощовими, вітряними та холодними (1 день);\n",
    "2. множина днів, які були дощовими та вітряними (5 днів);\n",
    "3. множина днів, які були дощовими та холодними (3 дні)."
   ]
  },
  {
   "cell_type": "markdown",
   "id": "433171b4",
   "metadata": {},
   "source": [
    "Визначимо різницю між парами множин rain_and_wind і rain_and_cold:"
   ]
  },
  {
   "cell_type": "code",
   "execution_count": 18,
   "id": "39c292a5",
   "metadata": {},
   "outputs": [
    {
     "name": "stdout",
     "output_type": "stream",
     "text": [
      "{'Day № 2', 'Day № 3', 'Day № 5', 'Day № 4'}\n",
      "4\n"
     ]
    }
   ],
   "source": [
    "difference_between_sets_1 = rain_and_wind.difference(rain_and_cold)\n",
    "print(difference_between_sets_1)\n",
    "print(len(difference_between_sets_1))"
   ]
  },
  {
   "cell_type": "markdown",
   "id": "da8b3365",
   "metadata": {},
   "source": [
    "Визначимо кількість днів, які були лише дощовими:"
   ]
  },
  {
   "cell_type": "code",
   "execution_count": 19,
   "id": "5529e529",
   "metadata": {},
   "outputs": [
    {
     "data": {
      "text/plain": [
       "5"
      ]
     },
     "execution_count": 19,
     "metadata": {},
     "output_type": "execute_result"
    }
   ],
   "source": [
    "12-4-3"
   ]
  },
  {
   "cell_type": "markdown",
   "id": "cc74d292",
   "metadata": {},
   "source": [
    "Створимо множину днів, які були дощовими. \n",
    "Нехай решта днів матимуть номери від 9 до 13."
   ]
  },
  {
   "cell_type": "code",
   "execution_count": 20,
   "id": "4ecad887",
   "metadata": {},
   "outputs": [
    {
     "name": "stdout",
     "output_type": "stream",
     "text": [
      "{'Day № 6', 'Day № 11', 'Day № 4', 'Day № 7', 'Day № 10', 'Day № 9', 'Day № 3', 'Day № 12', 'Day № 2', 'Day № 13', 'Day № 5', 'Day № 1'}\n"
     ]
    }
   ],
   "source": [
    "rain = difference_between_sets_1.union(rain_and_cold, {f'Day № {i}' for i in range(9, 14)})\n",
    "print(rain)"
   ]
  },
  {
   "cell_type": "markdown",
   "id": "14b37e82",
   "metadata": {},
   "source": [
    "Розглянемо множину днів, які були вітряними. \n",
    "В неї входять в якості підмножин:\n",
    "1. множина днів, які були дощовими, вітряними та холодними (1 день);\n",
    "2. множина днів, які були дощовими та вітряними (5 днів);\n",
    "3. множина днів, які були вітряними та холодними (2 дня);"
   ]
  },
  {
   "cell_type": "markdown",
   "id": "9bd27db1",
   "metadata": {},
   "source": [
    "Визначимо кількість днів, які були лише вітряними:"
   ]
  },
  {
   "cell_type": "code",
   "execution_count": 21,
   "id": "b0199d3e",
   "metadata": {},
   "outputs": [
    {
     "data": {
      "text/plain": [
       "2"
      ]
     },
     "execution_count": 21,
     "metadata": {},
     "output_type": "execute_result"
    }
   ],
   "source": [
    "8 - 4 - 2"
   ]
  },
  {
   "cell_type": "markdown",
   "id": "73066828",
   "metadata": {},
   "source": [
    "Створимо множину днів, які були лише вітряними. Нехай решта днів матимуть номери від 14 до 15."
   ]
  },
  {
   "cell_type": "code",
   "execution_count": 22,
   "id": "7562ecd6",
   "metadata": {
    "scrolled": false
   },
   "outputs": [
    {
     "name": "stdout",
     "output_type": "stream",
     "text": [
      "{'Day № 14', 'Day № 3', 'Day № 4', 'Day № 15', 'Day № 8', 'Day № 2', 'Day № 5', 'Day № 1'}\n"
     ]
    }
   ],
   "source": [
    "wind = difference_between_sets_1.union(wind_and_cold, {f'Day № {i}' for i in range(14, 16)})\n",
    "print(wind)"
   ]
  },
  {
   "cell_type": "markdown",
   "id": "96755195",
   "metadata": {},
   "source": [
    "Розглянемо множину днів, які були холодними. \n",
    "В неї входять в якості підмножин:\n",
    "1. множина днів, які були дощовими, вітряними та холодними (1 день);\n",
    "2. множина днів, які були дощовими та холодними (2 дні);\n",
    "3. множина днів, які були вітряними та холодними (2 дня);"
   ]
  },
  {
   "cell_type": "markdown",
   "id": "f6631ce8",
   "metadata": {},
   "source": [
    "Оскільки сума потужностей цих множин дорівнює кількості холодних днів, то днів, які були б лише холодними немає."
   ]
  },
  {
   "cell_type": "markdown",
   "id": "8ca021bd",
   "metadata": {},
   "source": [
    "Створимо множину днів, які були холодними."
   ]
  },
  {
   "cell_type": "code",
   "execution_count": 23,
   "id": "37ad7ba7",
   "metadata": {},
   "outputs": [
    {
     "name": "stdout",
     "output_type": "stream",
     "text": [
      "{'Day № 6', 'Day № 7', 'Day № 8', 'Day № 1'}\n"
     ]
    }
   ],
   "source": [
    "cold = rain_and_cold.union(wind_and_cold)\n",
    "print(cold)"
   ]
  },
  {
   "cell_type": "markdown",
   "id": "f815c5c6",
   "metadata": {},
   "source": [
    "Визначимо множину днів з поганою погодою:"
   ]
  },
  {
   "cell_type": "code",
   "execution_count": 24,
   "id": "f6d80246",
   "metadata": {
    "scrolled": true
   },
   "outputs": [
    {
     "name": "stdout",
     "output_type": "stream",
     "text": [
      "{'Day № 7', 'Day № 10', 'Day № 3', 'Day № 9', 'Day № 13', 'Day № 5', 'Day № 1', 'Day № 6', 'Day № 11', 'Day № 14', 'Day № 4', 'Day № 12', 'Day № 15', 'Day № 2', 'Day № 8'}\n"
     ]
    }
   ],
   "source": [
    "bad_weather = rain.union(wind, cold)\n",
    "print(bad_weather)"
   ]
  },
  {
   "cell_type": "markdown",
   "id": "b5371bbc",
   "metadata": {},
   "source": [
    "Визначимо множину днів з гарною погодою та її потужність:"
   ]
  },
  {
   "cell_type": "code",
   "execution_count": 26,
   "id": "a5049039",
   "metadata": {},
   "outputs": [
    {
     "name": "stdout",
     "output_type": "stream",
     "text": [
      "{'Day № 18', 'Day № 19', 'Day № 25', 'Day № 23', 'Day № 26', 'Day № 30', 'Day № 29', 'Day № 17', 'Day № 21', 'Day № 22', 'Day № 27', 'Day № 16', 'Day № 24', 'Day № 20', 'Day № 28'}\n",
      "15\n"
     ]
    }
   ],
   "source": [
    "good_weather = set_of_days - bad_weather\n",
    "print(good_weather)\n",
    "answer = len(good_weather)\n",
    "print(answer)"
   ]
  }
 ],
 "metadata": {
  "kernelspec": {
   "display_name": "Python 3 (ipykernel)",
   "language": "python",
   "name": "python3"
  },
  "language_info": {
   "codemirror_mode": {
    "name": "ipython",
    "version": 3
   },
   "file_extension": ".py",
   "mimetype": "text/x-python",
   "name": "python",
   "nbconvert_exporter": "python",
   "pygments_lexer": "ipython3",
   "version": "3.10.6"
  }
 },
 "nbformat": 4,
 "nbformat_minor": 5
}
