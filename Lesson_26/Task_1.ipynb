{
 "cells": [
  {
   "cell_type": "markdown",
   "id": "bd6f1acb",
   "metadata": {},
   "source": [
    "# Завдання\n",
    "Ймовірність того, що телевізор витримає гарантійний термін роботи, дорівнює $0,9$ для всіх телевізорів, які обслуговує гарантйна майстерня. Оцінити ймовірність того, що число телеввізорів, які витримають гарантійний термін роботи, буде в межах $[85;95]$."
   ]
  },
  {
   "cell_type": "markdown",
   "id": "1904ec3b",
   "metadata": {},
   "source": [
    "# Розв'язок"
   ]
  },
  {
   "cell_type": "markdown",
   "id": "edf900aa",
   "metadata": {},
   "source": [
    "Дискретна випадкова величина $X$ – число телевізорів, які витримають гарантійний термін роботи, має біноміальний закон розподілу ймовірності, тому\n",
    "\n",
    "$M(X) = np,$\n",
    "\n",
    "де $n = 100; p = 0,9$"
   ]
  },
  {
   "cell_type": "code",
   "execution_count": 5,
   "id": "d6dfd028",
   "metadata": {},
   "outputs": [
    {
     "name": "stdout",
     "output_type": "stream",
     "text": [
      "M(X)=90\n"
     ]
    }
   ],
   "source": [
    "m = int(100*0.9)\n",
    "print(f'M(X)={m}')"
   ]
  },
  {
   "cell_type": "markdown",
   "id": "7838ad45",
   "metadata": {},
   "source": [
    "$D(X) = npq$\n",
    "\n",
    "де $q = 1 - p = 1 - 0,9 = 0,1$"
   ]
  },
  {
   "cell_type": "code",
   "execution_count": 6,
   "id": "5d064a54",
   "metadata": {},
   "outputs": [
    {
     "name": "stdout",
     "output_type": "stream",
     "text": [
      "D(X)=9\n"
     ]
    }
   ],
   "source": [
    "d = int(100*0.9*0.1)\n",
    "print(f'D(X)={d}')"
   ]
  },
  {
   "cell_type": "markdown",
   "id": "e1ff0ca3",
   "metadata": {},
   "source": [
    "$\\varepsilon  = 95-90 = |85-90| = 5$"
   ]
  },
  {
   "cell_type": "markdown",
   "id": "fa234bb1",
   "metadata": {},
   "source": [
    "Використаємо нерівність Чебишева:\n",
    "$P(|X - M(X)|\\leq \\varepsilon )\\geq 1 - \\frac{D(X)}{\\varepsilon^2}$"
   ]
  },
  {
   "cell_type": "markdown",
   "id": "4f1f1c3e",
   "metadata": {},
   "source": [
    "$P(|X-90|\\leq5)\\geq1-\\frac{9}{5^2} = 1 - \\frac{9}{25}=$"
   ]
  },
  {
   "cell_type": "code",
   "execution_count": 7,
   "id": "caaeb284",
   "metadata": {},
   "outputs": [
    {
     "data": {
      "text/plain": [
       "0.64"
      ]
     },
     "execution_count": 7,
     "metadata": {},
     "output_type": "execute_result"
    }
   ],
   "source": [
    "1-9/25"
   ]
  },
  {
   "cell_type": "markdown",
   "id": "ce6246ea",
   "metadata": {},
   "source": [
    "$P(|X-90|\\leq5)\\geq 0,64$"
   ]
  }
 ],
 "metadata": {
  "kernelspec": {
   "display_name": "Python 3 (ipykernel)",
   "language": "python",
   "name": "python3"
  },
  "language_info": {
   "codemirror_mode": {
    "name": "ipython",
    "version": 3
   },
   "file_extension": ".py",
   "mimetype": "text/x-python",
   "name": "python",
   "nbconvert_exporter": "python",
   "pygments_lexer": "ipython3",
   "version": "3.10.6"
  }
 },
 "nbformat": 4,
 "nbformat_minor": 5
}
