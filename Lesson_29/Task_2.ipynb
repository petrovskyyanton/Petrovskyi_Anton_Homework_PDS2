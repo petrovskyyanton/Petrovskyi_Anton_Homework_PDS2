{
 "cells": [
  {
   "cell_type": "markdown",
   "id": "1b3559c2",
   "metadata": {},
   "source": [
    "# Завдання\n",
    "Випадкова величина $X$ розподілена рівномірно. Знайти щільність її розподілу, якщо $P(X\\geq3)=0,4$, а математичне сподівання рівне $M(X)=2$."
   ]
  },
  {
   "cell_type": "markdown",
   "id": "8ff2e814",
   "metadata": {},
   "source": [
    "# Розв'язок"
   ]
  },
  {
   "cell_type": "markdown",
   "id": "0dd6608d",
   "metadata": {},
   "source": [
    "Густина рівномірного розподілу визначаться формулою \n",
    "\n",
    "\n",
    "$f(x) = \\begin{cases} \\frac{1}{b-a}, x \\in [a; b] \\\\ 0, x ∉ [a; b] \\end{cases}$,\n",
    "\n",
    "\n",
    "\n",
    "де $a, b$ - кінці діапазону зміни випадкової величини $X$, які потрібно визначити.  \n",
    "\n",
    "Складемо систему рівнянь:"
   ]
  },
  {
   "cell_type": "markdown",
   "id": "8ae99eb0",
   "metadata": {},
   "source": [
    "$\\begin{cases} \\int_3^b\\frac{1}{b-a}dx=0,4 \\\\ \\int_a^b\\frac{x}{b-a}dx=2 \\end{cases}$\n",
    "\n",
    "$\\begin{cases} \\frac{b-3}{b-a}=0,4 \\\\ \\frac{a+b}{2}=2 \\end{cases}$\n",
    "\n",
    "$\\begin{cases} 0,6b+0,4a=3 \\\\ b=4-a \\end{cases}$\n",
    "\n",
    "$\\begin{cases} b=7 \\\\ a=-3 \\end{cases}$"
   ]
  },
  {
   "cell_type": "markdown",
   "id": "8bf81a51",
   "metadata": {},
   "source": [
    "Отже"
   ]
  },
  {
   "cell_type": "markdown",
   "id": "5bd82b2d",
   "metadata": {},
   "source": [
    "$f(x) = \\begin{cases} \\frac{1}{b-a}, x \\in [a; b] \\\\ 0, x ∉ [a; b] \\end{cases}$\n",
    "\n",
    "$f(x) = \\begin{cases} \\frac{1}{7-(-3)}, x \\in [-3; 7] \\\\ 0, x ∉ [-3; 7] \\end{cases}$\n",
    "\n",
    "$f(x) = \\begin{cases} \\frac{1}{10}, x \\in [-3; 7] \\\\ 0, x ∉ [-3; 7] \\end{cases}$"
   ]
  },
  {
   "cell_type": "code",
   "execution_count": null,
   "id": "558d7424",
   "metadata": {},
   "outputs": [],
   "source": []
  }
 ],
 "metadata": {
  "kernelspec": {
   "display_name": "Python 3 (ipykernel)",
   "language": "python",
   "name": "python3"
  },
  "language_info": {
   "codemirror_mode": {
    "name": "ipython",
    "version": 3
   },
   "file_extension": ".py",
   "mimetype": "text/x-python",
   "name": "python",
   "nbconvert_exporter": "python",
   "pygments_lexer": "ipython3",
   "version": "3.10.6"
  }
 },
 "nbformat": 4,
 "nbformat_minor": 5
}
