{
 "cells": [
  {
   "cell_type": "markdown",
   "id": "1b3559c2",
   "metadata": {},
   "source": [
    "# Завдання\n",
    "Випадкова величина $X$ розподілена рівномірно. Знайти щільність її розподілу, якщо $P(X\\geq3)=0,4$, а математичне сподівання рівне $M(X)=2$."
   ]
  },
  {
   "cell_type": "markdown",
   "id": "ceeb4848",
   "metadata": {},
   "source": [
    "# Розв'язок"
   ]
  },
  {
   "cell_type": "markdown",
   "id": "251da60d",
   "metadata": {},
   "source": [
    "Густина рівномірного розподілу визначаться формулою \n",
    "\n",
    "\n",
    "$f(x) = \\begin{cases} \\frac{1}{b-a}, x \\in [a; b] \\\\ 0, x ∉ [a; b] \\end{cases}$,\n",
    "\n",
    "\n",
    "\n",
    "де $a, b$ - кінці діапазону зміни випадкової величини $X$, які потрібно визначити.  \n",
    "\n",
    "Ймовірність того, що рівномірно розподілена випадкова величина $X$ потрапляє в інтервал $[c;d]$, при чому цей проміжок належить відрізку $[a; b]$:  $[c;d]\\subset[a; b]$ , визначається за формулою: \n",
    "\n",
    "\n",
    "$P(c<X<d)=\\int_c^d\\frac{dx}{b-a}=\\frac{d-c}{b-a}$\n",
    " \n",
    "При $P(X\\geq3)=0,4$ в нашому випадку $c=3; d=b$"
   ]
  },
  {
   "cell_type": "markdown",
   "id": "fd771ddb",
   "metadata": {},
   "source": [
    "Складемо систему рівнянь:\n",
    "\n",
    "$\\begin{cases} \\int_3^b\\frac{1}{b-a}dx=0,4 \\\\ \\int_a^b\\frac{x}{b-a}dx=2 \\end{cases}$\n",
    "\n",
    "$\\begin{cases} \\frac{b-3}{b-a}=0,4 \\\\ \\frac{a+b}{2}=2 \\end{cases}$\n",
    "\n",
    "$\\begin{cases} 0,6b+0,4a=3 \\\\ b=4-a \\end{cases}$\n",
    "\n",
    "$\\begin{cases} b=7 \\\\ a=-3 \\end{cases}$"
   ]
  },
  {
   "cell_type": "markdown",
   "id": "d8ddce7b",
   "metadata": {},
   "source": [
    "Отже"
   ]
  },
  {
   "cell_type": "markdown",
   "id": "585b0a6f",
   "metadata": {},
   "source": [
    "$f(x) = \\begin{cases} \\frac{1}{b-a},x \\in [a; b] \\\\ 0, x ∉ [a; b] \\end{cases}$\n",
    "\n",
    "$f(x) = \\begin{cases} \\frac{1}{7-(-3)},x \\in [-3; 7] \\\\ 0, x ∉ [-3; 7] \\end{cases}$\n",
    "\n",
    "$f(x) = \\begin{cases} \\frac{1}{10},x \\in [-3; 7] \\\\ 0, x ∉ [-3; 7] \\end{cases}$"
   ]
  },
  {
   "cell_type": "code",
   "execution_count": null,
   "id": "df87bd81",
   "metadata": {},
   "outputs": [],
   "source": []
  }
 ],
 "metadata": {
  "kernelspec": {
   "display_name": "Python 3 (ipykernel)",
   "language": "python",
   "name": "python3"
  },
  "language_info": {
   "codemirror_mode": {
    "name": "ipython",
    "version": 3
   },
   "file_extension": ".py",
   "mimetype": "text/x-python",
   "name": "python",
   "nbconvert_exporter": "python",
   "pygments_lexer": "ipython3",
   "version": "3.10.6"
  }
 },
 "nbformat": 4,
 "nbformat_minor": 5
}
