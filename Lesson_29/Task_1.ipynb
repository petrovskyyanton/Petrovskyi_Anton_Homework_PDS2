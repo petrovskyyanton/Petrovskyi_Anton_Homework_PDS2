{
 "cells": [
  {
   "cell_type": "markdown",
   "id": "1b3559c2",
   "metadata": {},
   "source": [
    "# Завдання\n",
    "Протягом 50 років вимірювався рівень води навесні під час повені відносно умовного нуля. Результати вимірювання наведено у вигляді інтервального статистичного розподілу:\n",
    "\n",
    "$x_i$|0-24|24-48|48-72|72-96|96-120|120-144|144-168|168-192|192-216\n",
    "-----|-|-|-|-|--|-|-|-|--\n",
    "$n_i$|1|2|4|6|12|16|6|2|1\n",
    "\n",
    "За даними статистичними розподілами вибірки висунути $H_0$ про закон розподілу ознаки генеральної сукупності і при рівні значущості $\\alpha=0,01$ перевірити її правильність\n"
   ]
  },
  {
   "cell_type": "markdown",
   "id": "8b53a9ce",
   "metadata": {},
   "source": [
    "# Розв'язок"
   ]
  },
  {
   "cell_type": "markdown",
   "id": "1cb11c80",
   "metadata": {},
   "source": [
    "$x_i$|12|36|60|84|108|132|156|180|204\n",
    "-----|-|-|-|-|--|-|-|-|--\n",
    "$n_i$|1|2|4|6|12|16|6|2|1"
   ]
  },
  {
   "cell_type": "code",
   "execution_count": 2,
   "id": "63130e2b",
   "metadata": {},
   "outputs": [
    {
     "name": "stdout",
     "output_type": "stream",
     "text": [
      "[12, 36, 36, 60, 60, 60, 60, 84, 84, 84, 84, 84, 84, 108, 108, 108, 108, 108, 108, 108, 108, 108, 108, 108, 108, 132, 132, 132, 132, 132, 132, 132, 132, 132, 132, 132, 132, 132, 132, 132, 132, 156, 156, 156, 156, 156, 156, 180, 180, 204]\n"
     ]
    }
   ],
   "source": [
    "x_i = [12,36,60,84,108,132,156,180,204]\n",
    "n_i = [1,2,4,6,12,16,6,2,1]\n",
    "\n",
    "def function(x, n):\n",
    "    l = len(x)\n",
    "    list_for_diagram = []\n",
    "    for i in range(l):\n",
    "        for j in range(n[i]):\n",
    "            list_for_diagram.append(x[i])\n",
    "    return list_for_diagram\n",
    "\n",
    "list_for_diagram = function(x_i,n_i)\n",
    "print(list_for_diagram)"
   ]
  },
  {
   "cell_type": "code",
   "execution_count": 3,
   "id": "48d42400",
   "metadata": {
    "scrolled": true
   },
   "outputs": [
    {
     "data": {
      "image/png": "[encoded data removed]",
      "text/plain": [
       "<Figure size 640x480 with 1 Axes>"
      ]
     },
     "metadata": {},
     "output_type": "display_data"
    }
   ],
   "source": [
    "import matplotlib.pyplot as plt\n",
    "\n",
    "plt.hist(list_for_diagram, color = 'blue', edgecolor = 'black',\n",
    "         bins = int(180/19))\n",
    "\n",
    "plt.title('Гістограма частот')\n",
    "plt.xlabel(r'$x_i$')\n",
    "plt.ylabel(r'$n_i$')\n",
    "plt.show()"
   ]
  },
  {
   "cell_type": "markdown",
   "id": "6099594f",
   "metadata": {},
   "source": [
    "Об’єм вибірки $n=50$.\n",
    "Знайдемо $\\overline{x}$"
   ]
  },
  {
   "cell_type": "code",
   "execution_count": 36,
   "id": "52a35604",
   "metadata": {},
   "outputs": [
    {
     "name": "stdout",
     "output_type": "stream",
     "text": [
      "Вибіркове середнє дорівнює x=114.72\n"
     ]
    }
   ],
   "source": [
    "x_average = sum(list_for_diagram)/50\n",
    "print(f'Вибіркове середнє дорівнює x={x_average}')"
   ]
  },
  {
   "cell_type": "markdown",
   "id": "7d1545ee",
   "metadata": {},
   "source": [
    "Знайдемо $\\sigma$"
   ]
  },
  {
   "cell_type": "code",
   "execution_count": 45,
   "id": "244b71fd",
   "metadata": {},
   "outputs": [
    {
     "name": "stdout",
     "output_type": "stream",
     "text": [
      "38.111\n"
     ]
    }
   ],
   "source": [
    "dispersion = ((sum(i**2 for i in list_for_diagram))/50 - x_average**2)**0.5\n",
    "print(round(dispersion, 3))"
   ]
  },
  {
   "cell_type": "markdown",
   "id": "1046295d",
   "metadata": {},
   "source": [
    "Перейдемо від інтервалів $(\\alpha_{𝑖−1}, \\alpha_{i})$ до інтервалів $(z_{𝑖−1}, z_{i})$ за формулами: \n",
    "$z_{𝑖−1} =\\frac{\\alpha_{𝑖−1}−\\overline{x}}{\\sigma}$, $z_{𝑖} =\\frac{\\alpha_{𝑖}−\\overline{x}}{\\sigma}$, причому найменше значення $z_0=−∞$, а найбільше значення $z_m=+∞$.\n",
    "\n",
    "\n",
    "Тоді $z_0=−∞$, $z_9=+∞$."
   ]
  },
  {
   "cell_type": "code",
   "execution_count": 59,
   "id": "26dcf278",
   "metadata": {},
   "outputs": [
    {
     "name": "stdout",
     "output_type": "stream",
     "text": [
      "z_1=-2.38\n",
      "z_2=-1.75\n",
      "z_3=-1.12\n",
      "z_4=-0.49\n",
      "z_5=0.14\n",
      "z_6=0.77\n",
      "z_7=1.4\n",
      "z_8=2.03\n",
      "[-2.38, -1.75, -1.12, -0.49, 0.14, 0.77, 1.4, 2.03]\n"
     ]
    }
   ],
   "source": [
    "l = [24,48,72,96,120,144,168,192]\n",
    "list_of_z = []\n",
    "for i in range(len(l)):\n",
    "    z_i = round((l[i]-x_average)/dispersion,2)\n",
    "    print(f'z_{i+1}={z_i}')\n",
    "    list_of_z.append(z_i)\n",
    "print(list_of_z)\n"
   ]
  },
  {
   "cell_type": "markdown",
   "id": "cbb15c2c",
   "metadata": {},
   "source": [
    "𝑖|(𝑧𝑖−1; 𝑧𝑖)|Ф(𝑧𝑖−1)|Ф(𝑧𝑖)|\n",
    "-----|-|-|-|\n",
    "1|(−∞;-2,38)      |-0,5|-0,4913|\n",
    "2|(-2,38;-1,75)  |-0,4913|-0,4599|\n",
    "3|(-1,75; -1,12)|-0,4599|-0,3686|\n",
    "4|(-1,12; -0,49)|-0,3686|-0,1879|\n",
    "5|(-0,49; 0,14) |-0,1879|0,0557|\n",
    "6|(0,14; 0,77)  |0,0557|0,2794|\n",
    "7|(0,77; 1,4)  |0,2794|0,4192|\n",
    "8|(1,4; 2,03)  |0,4192|0,4783|\n",
    "9|(2,03; +∞)   |0,4783|0,5|\n"
   ]
  },
  {
   "cell_type": "code",
   "execution_count": 90,
   "id": "1a89d179",
   "metadata": {},
   "outputs": [
    {
     "name": "stdout",
     "output_type": "stream",
     "text": [
      "[0.0087, 0.0314, 0.0913, 0.1807, 0.2436, 0.2237, 0.1398, 0.0591, 0.0217]\n"
     ]
    }
   ],
   "source": [
    "a_1, b_1 = -0.5, -0.4913\n",
    "a_2, b_2 =-0.4913, -0.4599\n",
    "a_3, b_3 =-0.4599, -0.3686\n",
    "a_4, b_4 =-0.3686, -0.1879\n",
    "a_5, b_5 =-0.1879, 0.0557\n",
    "a_6, b_6 =0.0557, 0.2794\n",
    "a_7, b_7 =0.2794, 0.4192\n",
    "a_8, b_8 =0.4192, 0.4783\n",
    "a_9, b_9 =0.4783, 0.5\n",
    "\n",
    "p=[]\n",
    "p.append(round(b_1-a_1,4))\n",
    "p.append(round(b_2-a_2,4))\n",
    "p.append(round(b_3-a_3,4))\n",
    "p.append(round(b_4-a_4,4))\n",
    "p.append(round(b_5-a_5,4))\n",
    "p.append(round(b_6-a_6,4))\n",
    "p.append(round(b_7-a_7,4))\n",
    "p.append(round(b_8-a_8,4))\n",
    "p.append(round(b_9-a_9,4))\n",
    "print(p)"
   ]
  },
  {
   "cell_type": "code",
   "execution_count": 91,
   "id": "24db7e31",
   "metadata": {},
   "outputs": [
    {
     "name": "stdout",
     "output_type": "stream",
     "text": [
      "1.0\n"
     ]
    }
   ],
   "source": [
    "print(round(sum(p), 3))"
   ]
  },
  {
   "cell_type": "code",
   "execution_count": 92,
   "id": "7ab71000",
   "metadata": {
    "scrolled": true
   },
   "outputs": [
    {
     "name": "stdout",
     "output_type": "stream",
     "text": [
      "[0.435, 1.57, 4.565, 9.035, 12.18, 11.185, 6.99, 2.955, 1.085]\n",
      "50.0\n"
     ]
    }
   ],
   "source": [
    "np = []\n",
    "for i in p:\n",
    "    np.append(round(i*50,3))\n",
    "print(np)\n",
    "print(sum(np))"
   ]
  },
  {
   "cell_type": "markdown",
   "id": "2bc7155f",
   "metadata": {},
   "source": [
    "i|(z{i−1};z{i}] |Ф(z{i−1})|Ф(z{i})|p{i}  |n{i}=np{i}|n{i}округлене|\n",
    "-|:------------:|:------:|:-----:|:----:|:---------:|:---:|\n",
    "1|(−∞;-2,38]    |-0,5     |-0,4913|0,087 |0.435|1|\n",
    "2|(-2,38;-1,75] |-0,4913  |-0,4599|0,314 |1.57|2|\n",
    "3|(-1,75; -1,12]|-0,4599  |-0,3686|0,0913|4.565|4|\n",
    "4|(-1,12; -0,49]|-0,3686  |-0,1879|0,1807|9.035|9|\n",
    "5|(-0,49; 0,14] |-0,1879  |0,0557 |0,2436|12.18|12|\n",
    "6|(0,14; 0,77]  |0,0557   |0,2794 |0,2237|11.185|11|\n",
    "7|(0,77; 1,4]   |0,2794   |0,4192 |0,1398|6.99|7|\n",
    "8|(1,4; 2,03]   |0,4192   |0,4783 |0,0591|2.955|3|\n",
    "9|(2,03; +∞)    |0,4783   |0,5    |0,217 |1.085|1|\n"
   ]
  },
  {
   "cell_type": "markdown",
   "id": "159df2f2",
   "metadata": {},
   "source": [
    "Примітка: в першому рядку округлюємо до одиниці щоб в подільшому уникнути ділення на нуль."
   ]
  },
  {
   "cell_type": "markdown",
   "id": "2e16e3bf",
   "metadata": {},
   "source": [
    "i|n{i}експ|n{i}теор|n{i}експ-n{i}теор|(n{i}експ-n{i}теор)^2|(n{i}експ-n{i}теор)^2/n{i}теор\n",
    "-|:------:|:------:|:---------------:|:-------------------:|:----:|\n",
    "1|1       |1       |       0         |1                    |0|\n",
    "2|2       |2       |       0         |0                    |0|\n",
    "3|4       |4       |       0         |1                    |0|\n",
    "4|6       |9       |      -3         |9                    |1|\n",
    "5|12      |12      |       0         |0                    |0|\n",
    "6|16      |11      |       5         |25                   |2,2727|\n",
    "7|6       |7       |      -1         |1                    |0,1429|\n",
    "8|2       |3       |      -1         |1                    |0,3333|\n",
    "9|1       |1       |       0         |0                    |0|"
   ]
  },
  {
   "cell_type": "code",
   "execution_count": 4,
   "id": "77262a0b",
   "metadata": {},
   "outputs": [
    {
     "name": "stdout",
     "output_type": "stream",
     "text": [
      "[0.0, 0.0, 0.0, 1.0, 0.0, 2.2727, 0.1429, 0.3333, 0.0]\n",
      "К_емп=3.7489\n"
     ]
    }
   ],
   "source": [
    "a_1, b_1 =1,0  \n",
    "a_2, b_2 =2,0  \n",
    "a_3, b_3 =5,0  \n",
    "a_4, b_4 =9,9 \n",
    "a_5, b_5 =12,0 \n",
    "a_6, b_6 =11,25\n",
    "a_7, b_7 =7,1 \n",
    "a_8, b_8 =3,1 \n",
    "a_9, b_9 =1,0\n",
    "\n",
    "g=[]\n",
    "g.append(round(b_1/a_1,4))\n",
    "g.append(round(b_2/a_2,4))\n",
    "g.append(round(b_3/a_3,4))\n",
    "g.append(round(b_4/a_4,4))\n",
    "g.append(round(b_5/a_5,4))\n",
    "g.append(round(b_6/a_6,4))\n",
    "g.append(round(b_7/a_7,4))\n",
    "g.append(round(b_8/a_8,4))\n",
    "g.append(round(b_9/a_9,4))\n",
    "print(g)\n",
    "print(f'К_емп={sum(g)}')"
   ]
  },
  {
   "cell_type": "markdown",
   "id": "0cbe5911",
   "metadata": {},
   "source": [
    "За таблицею критичних точок розподілу при рівні значущості α = 0,01 та числі ступенів свободи 𝑟 = 𝑚 − 𝑠 − 1 = 9 − 2 − 1 = 6 знаходимо критичну точку з таблиці $k_{кр} = 16,8$. Оскільки $K_{емп}<K_{кр}$ $(3,7489<16,8)$, то немає підстав відхилити нульову гіпотезу."
   ]
  },
  {
   "cell_type": "code",
   "execution_count": null,
   "id": "02ae79d3",
   "metadata": {},
   "outputs": [],
   "source": []
  }
 ],
 "metadata": {
  "kernelspec": {
   "display_name": "Python 3 (ipykernel)",
   "language": "python",
   "name": "python3"
  },
  "language_info": {
   "codemirror_mode": {
    "name": "ipython",
    "version": 3
   },
   "file_extension": ".py",
   "mimetype": "text/x-python",
   "name": "python",
   "nbconvert_exporter": "python",
   "pygments_lexer": "ipython3",
   "version": "3.10.6"
  }
 },
 "nbformat": 4,
 "nbformat_minor": 5
}
