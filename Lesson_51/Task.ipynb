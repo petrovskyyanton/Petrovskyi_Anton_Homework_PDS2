{
 "cells": [
  {
   "cell_type": "markdown",
   "id": "d880a133",
   "metadata": {},
   "source": [
    "## Умова:\n",
    "До пункту видачі надійшли вироби з такими характеристиками:\n",
    "Всього виробів – 13000 одиниць, з них виготовлено на першому заводі — 8000 од., вагою 13 кг., зі стандартним відхиленням по вазі 0.5 кг.. На другому — 5000 од., вагою 12 кг., зі стандартним відхиленням по вазі 0.7 кг. Доля якісних виробів, вироблених на першому заводі, становить 0.85. Доля якісних виробів, вироблених на другому заводі 0,8.\n",
    "\n",
    "## Завдання: \n",
    "Написати код, з використанням EM-алгоритму, для визначення ймовірності, на якому заводі був вироблений виріб.\n"
   ]
  },
  {
   "cell_type": "code",
   "execution_count": 14,
   "id": "d520d5f0",
   "metadata": {},
   "outputs": [],
   "source": [
    "import numpy as np\n",
    "from numpy import random\n",
    "from scipy.stats import multivariate_normal"
   ]
  },
  {
   "cell_type": "code",
   "execution_count": 15,
   "id": "a29d3366",
   "metadata": {},
   "outputs": [],
   "source": [
    "from sklearn.mixture import GaussianMixture\n",
    "from numpy import random \n",
    "from pandas import DataFrame\n",
    "from sklearn import metrics\n",
    "import warnings\n",
    "warnings.filterwarnings(\"ignore\")"
   ]
  },
  {
   "cell_type": "code",
   "execution_count": 16,
   "id": "b841dc94",
   "metadata": {},
   "outputs": [
    {
     "data": {
      "text/plain": [
       "array([13.03107741, 12.6677899 , 13.4108251 , ..., 13.02260824,\n",
       "       12.59475893, 12.99015816])"
      ]
     },
     "execution_count": 16,
     "metadata": {},
     "output_type": "execute_result"
    }
   ],
   "source": [
    "sample_1 = np.random.normal(13, 0.5, 8000)\n",
    "sample_2 = np.random.normal(12, 0.7, 5000)\n",
    "x = np.concatenate ((sample_1, sample_1))\n",
    "x"
   ]
  },
  {
   "cell_type": "code",
   "execution_count": 17,
   "id": "6cf580cf",
   "metadata": {},
   "outputs": [
    {
     "data": {
      "text/plain": [
       "{'covariance_type': 'full',\n",
       " 'init_params': 'kmeans',\n",
       " 'max_iter': 100,\n",
       " 'means_init': None,\n",
       " 'n_components': 2,\n",
       " 'n_init': 1,\n",
       " 'precisions_init': None,\n",
       " 'random_state': None,\n",
       " 'reg_covar': 1e-06,\n",
       " 'tol': 0.001,\n",
       " 'verbose': 0,\n",
       " 'verbose_interval': 10,\n",
       " 'warm_start': False,\n",
       " 'weights_init': None}"
      ]
     },
     "execution_count": 17,
     "metadata": {},
     "output_type": "execute_result"
    }
   ],
   "source": [
    "gm = GaussianMixture(n_components=2).fit(x.reshape(-1, 1))\n",
    "gm.get_params()"
   ]
  },
  {
   "cell_type": "code",
   "execution_count": 18,
   "id": "1ababa22",
   "metadata": {},
   "outputs": [
    {
     "name": "stdout",
     "output_type": "stream",
     "text": [
      "[[12.6851441 ]\n",
      " [13.29929984]]\n"
     ]
    }
   ],
   "source": [
    "centers = gm.means_\n",
    "print(centers)"
   ]
  },
  {
   "cell_type": "code",
   "execution_count": 19,
   "id": "76f54eba",
   "metadata": {},
   "outputs": [],
   "source": [
    "pred = gm.predict(x.reshape(-1, 1))"
   ]
  },
  {
   "cell_type": "code",
   "execution_count": 20,
   "id": "96c76fbe",
   "metadata": {},
   "outputs": [
    {
     "name": "stdout",
     "output_type": "stream",
     "text": [
      "[1 0 1 ... 1 0 1]\n"
     ]
    }
   ],
   "source": [
    "print(pred)"
   ]
  },
  {
   "cell_type": "code",
   "execution_count": 21,
   "id": "711cf0c3",
   "metadata": {},
   "outputs": [
    {
     "name": "stdout",
     "output_type": "stream",
     "text": [
      "1 завод: 0.5987692307692307\n",
      "2 завод: 0.632\n"
     ]
    }
   ],
   "source": [
    "print('1 завод:',list(pred).count(0)/13000)\n",
    "print('2 завод:',list(pred).count(1)/13000)"
   ]
  },
  {
   "cell_type": "code",
   "execution_count": 22,
   "id": "fa6548ca",
   "metadata": {},
   "outputs": [
    {
     "name": "stdout",
     "output_type": "stream",
     "text": [
      "0.4997292330770673\n",
      "0.1431372120867178\n",
      "0.6927826362602758\n"
     ]
    }
   ],
   "source": [
    "print(metrics.rand_score(x, list(pred)))\n",
    "print(metrics.normalized_mutual_info_score(x, list(pred)))\n",
    "print(metrics.mutual_info_score(x, list(pred)))"
   ]
  }
 ],
 "metadata": {
  "kernelspec": {
   "display_name": "Python 3 (ipykernel)",
   "language": "python",
   "name": "python3"
  },
  "language_info": {
   "codemirror_mode": {
    "name": "ipython",
    "version": 3
   },
   "file_extension": ".py",
   "mimetype": "text/x-python",
   "name": "python",
   "nbconvert_exporter": "python",
   "pygments_lexer": "ipython3",
   "version": "3.10.6"
  }
 },
 "nbformat": 4,
 "nbformat_minor": 5
}
