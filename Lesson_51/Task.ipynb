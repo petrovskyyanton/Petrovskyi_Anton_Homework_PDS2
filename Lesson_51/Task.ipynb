{
 "cells": [
  {
   "cell_type": "markdown",
   "id": "d880a133",
   "metadata": {},
   "source": [
    "## Умова:\n",
    "До пункту видачі надійшли вироби з такими характеристиками:\n",
    "Всього виробів – 13000 одиниць, з них виготовлено на першому заводі — 8000 од., вагою 13 кг., зі стандартним відхиленням по вазі 0.5 кг.. На другому — 5000 од., вагою 12 кг., зі стандартним відхиленням по вазі 0.7 кг. Доля якісних виробів, вироблених на першому заводі, становить 0.85. Доля якісних виробів, вироблених на другому заводі 0,8.\n",
    "\n",
    "## Завдання: \n",
    "Написати код, з використанням EM-алгоритму, для визначення ймовірності, на якому заводі був вироблений виріб.\n"
   ]
  },
  {
   "cell_type": "code",
   "execution_count": 134,
   "id": "d520d5f0",
   "metadata": {},
   "outputs": [],
   "source": [
    "import numpy as np\n",
    "from numpy import random\n",
    "from scipy.stats import multivariate_normal"
   ]
  },
  {
   "cell_type": "code",
   "execution_count": 135,
   "id": "a29d3366",
   "metadata": {},
   "outputs": [],
   "source": [
    "from sklearn.mixture import GaussianMixture\n",
    "from numpy import random \n",
    "from pandas import DataFrame\n",
    "from sklearn import metrics\n",
    "import warnings\n",
    "warnings.filterwarnings(\"ignore\")"
   ]
  },
  {
   "cell_type": "code",
   "execution_count": 136,
   "id": "b841dc94",
   "metadata": {},
   "outputs": [
    {
     "data": {
      "text/plain": [
       "array([13.59568506, 13.33175483, 13.01877487, ..., 13.07419062,\n",
       "       12.79921151, 12.08595874])"
      ]
     },
     "execution_count": 136,
     "metadata": {},
     "output_type": "execute_result"
    }
   ],
   "source": [
    "import random as rand\n",
    "\n",
    "def gen_data(mean, stdd, samples):\n",
    "    data = [rand.normalvariate(mean, stdd) for i in range(samples)]\n",
    "    return data\n",
    "\n",
    "data = gen_data(13, 0.5, 8000) + gen_data(12, 0.7, 5000)\n",
    "\n",
    "x = np.array(data)\n",
    "x"
   ]
  },
  {
   "cell_type": "code",
   "execution_count": 137,
   "id": "6cf580cf",
   "metadata": {},
   "outputs": [
    {
     "data": {
      "text/plain": [
       "{'covariance_type': 'full',\n",
       " 'init_params': 'kmeans',\n",
       " 'max_iter': 100,\n",
       " 'means_init': None,\n",
       " 'n_components': 2,\n",
       " 'n_init': 1,\n",
       " 'precisions_init': None,\n",
       " 'random_state': None,\n",
       " 'reg_covar': 1e-06,\n",
       " 'tol': 0.001,\n",
       " 'verbose': 0,\n",
       " 'verbose_interval': 10,\n",
       " 'warm_start': False,\n",
       " 'weights_init': None}"
      ]
     },
     "execution_count": 137,
     "metadata": {},
     "output_type": "execute_result"
    }
   ],
   "source": [
    "gm = GaussianMixture(n_components=2).fit(x.reshape(-1, 1))\n",
    "gm.get_params()"
   ]
  },
  {
   "cell_type": "code",
   "execution_count": 138,
   "id": "1ababa22",
   "metadata": {},
   "outputs": [
    {
     "name": "stdout",
     "output_type": "stream",
     "text": [
      "[[13.00534549]\n",
      " [11.92081272]]\n"
     ]
    }
   ],
   "source": [
    "centers = gm.means_\n",
    "print(centers)"
   ]
  },
  {
   "cell_type": "code",
   "execution_count": 139,
   "id": "76f54eba",
   "metadata": {},
   "outputs": [],
   "source": [
    "pred = gm.predict(x.reshape(-1, 1))"
   ]
  },
  {
   "cell_type": "code",
   "execution_count": 140,
   "id": "96c76fbe",
   "metadata": {},
   "outputs": [
    {
     "name": "stdout",
     "output_type": "stream",
     "text": [
      "[0 0 0 ... 0 0 1]\n"
     ]
    }
   ],
   "source": [
    "print(pred)"
   ]
  },
  {
   "cell_type": "code",
   "execution_count": 141,
   "id": "711cf0c3",
   "metadata": {},
   "outputs": [
    {
     "name": "stdout",
     "output_type": "stream",
     "text": [
      "1 завод: 0.6937692307692308\n",
      "2 завод: 0.30623076923076925\n"
     ]
    }
   ],
   "source": [
    "print('1 завод:',list(pred).count(0)/13000)\n",
    "print('2 завод:',list(pred).count(1)/13000)"
   ]
  },
  {
   "cell_type": "code",
   "execution_count": 143,
   "id": "fa6548ca",
   "metadata": {},
   "outputs": [
    {
     "name": "stdout",
     "output_type": "stream",
     "text": [
      "0.42493965808020734\n",
      "0.12212636217844225\n",
      "0.6160515457162291\n"
     ]
    }
   ],
   "source": [
    "print(metrics.rand_score(x, list(pred)))\n",
    "print(metrics.normalized_mutual_info_score(x, list(pred)))\n",
    "print(metrics.mutual_info_score(x, list(pred)))"
   ]
  },
  {
   "cell_type": "code",
   "execution_count": null,
   "id": "f70a0c01",
   "metadata": {},
   "outputs": [],
   "source": []
  },
  {
   "cell_type": "code",
   "execution_count": null,
   "id": "031d214c",
   "metadata": {},
   "outputs": [],
   "source": []
  }
 ],
 "metadata": {
  "kernelspec": {
   "display_name": "Python 3 (ipykernel)",
   "language": "python",
   "name": "python3"
  },
  "language_info": {
   "codemirror_mode": {
    "name": "ipython",
    "version": 3
   },
   "file_extension": ".py",
   "mimetype": "text/x-python",
   "name": "python",
   "nbconvert_exporter": "python",
   "pygments_lexer": "ipython3",
   "version": "3.10.6"
  }
 },
 "nbformat": 4,
 "nbformat_minor": 5
}
