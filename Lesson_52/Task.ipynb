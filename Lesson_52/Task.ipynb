{
 "cells": [
  {
   "cell_type": "code",
   "execution_count": 214,
   "id": "a8442e11",
   "metadata": {},
   "outputs": [],
   "source": [
    "import numpy as np\n",
    "import pandas as pd\n",
    "from sklearn.model_selection import train_test_split\n",
    "from sklearn.datasets import load_iris\n",
    "from scipy.stats import norm\n",
    "import warnings\n",
    "from sklearn.metrics import accuracy_score\n",
    "warnings.filterwarnings(\"ignore\")"
   ]
  },
  {
   "cell_type": "code",
   "execution_count": 215,
   "id": "926b531a",
   "metadata": {},
   "outputs": [],
   "source": [
    "data = load_iris()\n",
    "X, y, column_names = data['data'], data['target'], data['feature_names']\n",
    "X = pd.DataFrame(X, columns = column_names)"
   ]
  },
  {
   "cell_type": "code",
   "execution_count": 216,
   "id": "4a59e42b",
   "metadata": {},
   "outputs": [
    {
     "name": "stdout",
     "output_type": "stream",
     "text": [
      "Рядки в датасеті [1 2 2 1 2 1 2 1 0 2 1 0 0 0 1 2 0 0 0 1 0 1 2 0 1 2 0 2 2 1 1 2 1 0 1 2 0\n",
      " 0 1 1 0 2 0 0 1 1 2 1 2 2 1 0 0 2 2 0 0 0 1 2 0 2 2 0 1 1 2 1 2 0 2 1 2 1\n",
      " 1 1 0 1 1 0 1 2 2 0 1 2 2 0 2 0 1 2 2 1 2 1 1 2 2 0 1 2 0 1 2]\n",
      "Рядки в датасеті [1 0 2 1 1 0 1 2 1 1 2 0 0 0 0 1 2 1 1 2 0 2 0 2 2 2 2 2 0 0 0 0 1 0 0 2 1\n",
      " 0 0 0 2 1 1 0 0]\n",
      "Кількість елементів у категоріях для навчального датасету [31 37 37]\n",
      "Кількість елементів у категоріях для тестового датасету [19 13 13]\n"
     ]
    }
   ],
   "source": [
    "X_train, X_test, y_train, y_test = train_test_split(X, y, train_size=0.7, random_state=42)\n",
    "\n",
    "print(f\"Рядки в датасеті {y_train}\")\n",
    "print(f\"Рядки в датасеті {y_test}\")\n",
    "print(f\"Кількість елементів у категоріях для навчального датасету {np.bincount(y_train)}\")\n",
    "print(f\"Кількість елементів у категоріях для тестового датасету {np.bincount(y_test)}\")"
   ]
  },
  {
   "cell_type": "markdown",
   "id": "0c13daec",
   "metadata": {},
   "source": [
    "## Стратифікація (рівномірний розподіл) класів"
   ]
  },
  {
   "cell_type": "code",
   "execution_count": 217,
   "id": "8275021c",
   "metadata": {},
   "outputs": [
    {
     "name": "stdout",
     "output_type": "stream",
     "text": [
      "Кількість елементів у категоріях для навчального датасету [35 35 35]\n",
      "Кількість елементів у категоріях для тестового датасету [15 15 15]\n"
     ]
    }
   ],
   "source": [
    "X_train, X_test, y_train, y_test = train_test_split(X, y, train_size=0.7, random_state=42, stratify=y)\n",
    "\n",
    "print(f\"Кількість елементів у категоріях для навчального датасету {np.bincount(y_train)}\")\n",
    "print(f\"Кількість елементів у категоріях для тестового датасету {np.bincount(y_test)}\")"
   ]
  },
  {
   "cell_type": "code",
   "execution_count": 218,
   "id": "94da7c17",
   "metadata": {},
   "outputs": [],
   "source": [
    "means = X_train.groupby(y_train).apply(np.mean)\n",
    "stds = X_train.groupby(y_train).apply(np.std)"
   ]
  },
  {
   "cell_type": "code",
   "execution_count": 219,
   "id": "9d87422e",
   "metadata": {},
   "outputs": [],
   "source": [
    "probs = X_train.groupby(y_train).apply(lambda x: len(x)) / X_train.shape[0]"
   ]
  },
  {
   "cell_type": "code",
   "execution_count": 220,
   "id": "3a139729",
   "metadata": {},
   "outputs": [],
   "source": [
    "y_pred = []\n",
    "\n",
    "for elem in range(X_test.shape[0]):\n",
    "   p = {}\n",
    "\n",
    "   for cl in np.unique(y_train):\n",
    "       p[cl] = probs.iloc[cl]\n",
    "    \n",
    "       for index, param in enumerate(X_test.iloc[elem]):\n",
    "           p[cl] *= norm.pdf(param, means.iloc[cl, index], stds.iloc[cl, index])\n",
    "        \n",
    "   y_pred.append(pd.Series(p).values.argmax())"
   ]
  },
  {
   "cell_type": "code",
   "execution_count": 221,
   "id": "d8b6f064",
   "metadata": {},
   "outputs": [],
   "source": [
    "accuracy1 = accuracy_score(y_test, y_pred)"
   ]
  },
  {
   "cell_type": "code",
   "execution_count": 222,
   "id": "e35e6173",
   "metadata": {},
   "outputs": [],
   "source": [
    "from sklearn.naive_bayes import GaussianNB\n",
    "model = GaussianNB()\n",
    "model.fit(X_train, y_train)\n",
    "accuracy2 = accuracy_score(y_test, model.predict(X_test))"
   ]
  },
  {
   "cell_type": "code",
   "execution_count": 223,
   "id": "2e11c236",
   "metadata": {
    "scrolled": true
   },
   "outputs": [
    {
     "name": "stdout",
     "output_type": "stream",
     "text": [
      "0.9111111111111111\n",
      "0.9111111111111111\n"
     ]
    }
   ],
   "source": [
    "print(accuracy1)\n",
    "print(accuracy2)"
   ]
  },
  {
   "cell_type": "code",
   "execution_count": 208,
   "id": "fe171da0",
   "metadata": {},
   "outputs": [],
   "source": [
    "import ml_metrics as metrics"
   ]
  },
  {
   "cell_type": "code",
   "execution_count": 227,
   "id": "25040241",
   "metadata": {},
   "outputs": [
    {
     "data": {
      "text/plain": [
       "0.08888888888888889"
      ]
     },
     "execution_count": 227,
     "metadata": {},
     "output_type": "execute_result"
    }
   ],
   "source": [
    "metrics.mae(y_test, model.predict(X_test))"
   ]
  },
  {
   "cell_type": "code",
   "execution_count": 228,
   "id": "ac094343",
   "metadata": {},
   "outputs": [
    {
     "data": {
      "text/plain": [
       "0.08888888888888889"
      ]
     },
     "execution_count": 228,
     "metadata": {},
     "output_type": "execute_result"
    }
   ],
   "source": [
    "metrics.mse(y_test, model.predict(X_test))"
   ]
  },
  {
   "cell_type": "code",
   "execution_count": 229,
   "id": "02a32717",
   "metadata": {},
   "outputs": [
    {
     "data": {
      "text/plain": [
       "0.29814239699997197"
      ]
     },
     "execution_count": 229,
     "metadata": {},
     "output_type": "execute_result"
    }
   ],
   "source": [
    "metrics.rmse(y_test, model.predict(X_test))"
   ]
  },
  {
   "cell_type": "markdown",
   "id": "7d3c595a",
   "metadata": {},
   "source": [
    "## Стратифікація (додаткове розділення)"
   ]
  },
  {
   "cell_type": "code",
   "execution_count": 230,
   "id": "100e2bf9",
   "metadata": {},
   "outputs": [
    {
     "name": "stdout",
     "output_type": "stream",
     "text": [
      "Рядки в датасеті [1 2 2 1 2 1 2 1 0 2 1 0 0 0 1 2 0 0 0 1 0 1 2 0 1 2 0 2 2 1 1 2 1 0 1 2 0\n",
      " 0 1 1 0 2 0 0 1 1 2 1 2 2 1 0 0 2 2 0 0 0 1 2 0 2 2 0 1 1 2 1 2 0 2 1 2 1\n",
      " 1 1 0 1 1 0 1 2 2 0 1 2 2 0 2 0 1 2 2 1 2 1 1 2 2 0 1 2 0 1 2]\n",
      "Рядки в датасеті [1 0 2 1 1 0 1 2 1 1 2 0 0 0 0 1 2 1 1 2 0 2 0 2 2 2 2 2 0 0 0 0 1 0 0 2 1\n",
      " 0 0 0 2 1 1 0 0]\n",
      "Кількість елементів у категоріях для навчального датасету [31 37 37]\n",
      "Кількість елементів у категоріях для тестового датасету [19 13 13]\n"
     ]
    }
   ],
   "source": [
    "X_train, X_test, y_train, y_test = train_test_split(X, y, train_size=0.7, random_state=42)\n",
    "\n",
    "print(f\"Рядки в датасеті {y_train}\")\n",
    "print(f\"Рядки в датасеті {y_test}\")\n",
    "print(f\"Кількість елементів у категоріях для навчального датасету {np.bincount(y_train)}\")\n",
    "print(f\"Кількість елементів у категоріях для тестового датасету {np.bincount(y_test)}\")"
   ]
  },
  {
   "cell_type": "code",
   "execution_count": 231,
   "id": "837e09d0",
   "metadata": {},
   "outputs": [
    {
     "name": "stdout",
     "output_type": "stream",
     "text": [
      "Кількість елементів у категоріях для навчального датасету [31 37 37]\n",
      "Кількість елементів у категоріях для тестового датасету [13  9  9]\n"
     ]
    }
   ],
   "source": [
    "X_test, X_val, y_test, y_val = train_test_split(X_test, y_test, \n",
    "                                                    train_size=0.7, \n",
    "                                                    random_state=42,\n",
    "                                                    stratify=y_test)\n",
    "\n",
    "print(f\"Кількість елементів у категоріях для навчального датасету {np.bincount(y_train)}\")\n",
    "print(f\"Кількість елементів у категоріях для тестового датасету {np.bincount(y_test)}\")"
   ]
  },
  {
   "cell_type": "code",
   "execution_count": 232,
   "id": "2540a6f3",
   "metadata": {},
   "outputs": [],
   "source": [
    "means = X_train.groupby(y_train).apply(np.mean)\n",
    "stds = X_train.groupby(y_train).apply(np.std)"
   ]
  },
  {
   "cell_type": "code",
   "execution_count": 233,
   "id": "742b2dbf",
   "metadata": {},
   "outputs": [],
   "source": [
    "probs = X_train.groupby(y_train).apply(lambda x: len(x)) / X_train.shape[0]"
   ]
  },
  {
   "cell_type": "code",
   "execution_count": 234,
   "id": "1e3fa0ad",
   "metadata": {},
   "outputs": [],
   "source": [
    "y_pred = []\n",
    "\n",
    "for elem in range(X_val.shape[0]):\n",
    "   p = {}\n",
    "\n",
    "   for cl in np.unique(y_train):\n",
    "       p[cl] = probs.iloc[cl]\n",
    "    \n",
    "       for index, param in enumerate(X_val.iloc[elem]):\n",
    "           p[cl] *= norm.pdf(param, means.iloc[cl, index], stds.iloc[cl, index])\n",
    "        \n",
    "   y_pred.append(pd.Series(p).values.argmax())"
   ]
  },
  {
   "cell_type": "code",
   "execution_count": 235,
   "id": "8efb048e",
   "metadata": {},
   "outputs": [],
   "source": [
    "accuracy1 = accuracy_score(y_val, y_pred)"
   ]
  },
  {
   "cell_type": "code",
   "execution_count": 236,
   "id": "4de15775",
   "metadata": {},
   "outputs": [],
   "source": [
    "from sklearn.naive_bayes import GaussianNB\n",
    "model = GaussianNB()\n",
    "model.fit(X_train, y_train)\n",
    "accuracy2 = accuracy_score(y_val, model.predict(X_val))"
   ]
  },
  {
   "cell_type": "code",
   "execution_count": 237,
   "id": "2deb755a",
   "metadata": {},
   "outputs": [
    {
     "name": "stdout",
     "output_type": "stream",
     "text": [
      "1.0\n",
      "1.0\n"
     ]
    }
   ],
   "source": [
    "print(accuracy1)\n",
    "print(accuracy2)"
   ]
  },
  {
   "cell_type": "code",
   "execution_count": 238,
   "id": "7b62b337",
   "metadata": {},
   "outputs": [
    {
     "data": {
      "text/plain": [
       "0.03225806451612903"
      ]
     },
     "execution_count": 238,
     "metadata": {},
     "output_type": "execute_result"
    }
   ],
   "source": [
    "metrics.mae(y_test, model.predict(X_test))"
   ]
  },
  {
   "cell_type": "code",
   "execution_count": 239,
   "id": "21d80e21",
   "metadata": {},
   "outputs": [
    {
     "data": {
      "text/plain": [
       "0.03225806451612903"
      ]
     },
     "execution_count": 239,
     "metadata": {},
     "output_type": "execute_result"
    }
   ],
   "source": [
    "metrics.mse(y_test, model.predict(X_test))"
   ]
  },
  {
   "cell_type": "code",
   "execution_count": 240,
   "id": "ef8c1b4c",
   "metadata": {
    "scrolled": true
   },
   "outputs": [
    {
     "data": {
      "text/plain": [
       "0.1796053020267749"
      ]
     },
     "execution_count": 240,
     "metadata": {},
     "output_type": "execute_result"
    }
   ],
   "source": [
    "metrics.rmse(y_test, model.predict(X_test))"
   ]
  },
  {
   "cell_type": "markdown",
   "id": "0ddc2475",
   "metadata": {},
   "source": [
    "## Висновок\n",
    "Судячи з метрик моделей, додаткове розділення є кращим методом для стратифікації даної вибірки."
   ]
  },
  {
   "cell_type": "code",
   "execution_count": null,
   "id": "1ab0f6bc",
   "metadata": {},
   "outputs": [],
   "source": []
  }
 ],
 "metadata": {
  "kernelspec": {
   "display_name": "Python 3 (ipykernel)",
   "language": "python",
   "name": "python3"
  },
  "language_info": {
   "codemirror_mode": {
    "name": "ipython",
    "version": 3
   },
   "file_extension": ".py",
   "mimetype": "text/x-python",
   "name": "python",
   "nbconvert_exporter": "python",
   "pygments_lexer": "ipython3",
   "version": "3.10.6"
  }
 },
 "nbformat": 4,
 "nbformat_minor": 5
}
