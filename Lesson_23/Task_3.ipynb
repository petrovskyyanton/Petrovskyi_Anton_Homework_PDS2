{
 "cells": [
  {
   "cell_type": "markdown",
   "id": "ee5a1265",
   "metadata": {},
   "source": [
    "# Задача\n",
    "Два верстати-автомати виготовляють однакові вироби, які\n",
    "попадають на загальний конвеєр. Продуктивність першого автомата в два\n",
    "раза біль ніж продуктивність другого. Перший верстат-автомат виготовляє\n",
    "60 % виробів вищого гатунку, а другий - 84 %.\n",
    "\n",
    "а) Знайти ймовірність того, що навмання взятий з конвеєра виріб вищого\n",
    "ґатунку.\n",
    "\n",
    "б) Навмання взятий з конвеєра виріб має вищий ґатунок.\n",
    "Знайти ймовірність того, що він виготовлений на першому верстаті."
   ]
  },
  {
   "attachments": {
    "image.png": {
     "image/png": "[encoded data removed]"
    }
   },
   "cell_type": "markdown",
   "id": "07f2325c",
   "metadata": {},
   "source": [
    "# Розв'язок \n",
    "# а)\n",
    "Нехай подія А - навмання взятий з конвеєра виріб має вищий гатунок;\n",
    "В_1 - навмання взятий з конвеєра виріб виготовлено на першому версті;\n",
    "B_2 - навмання взятий з конвеєра виріб виготовлено на другому верста.\n",
    "![image.png](attachment:image.png)\n",
    "P(A) = P(A|B_1)xP(B_1) + P(A|B_2)xP(B_2)"
   ]
  },
  {
   "cell_type": "markdown",
   "id": "34a890e6",
   "metadata": {},
   "source": [
    "P(B_1) = 2/3; P(B_2) = 1/3.\n",
    "\n",
    "P(A|B_1) = 60% = 0.6\n",
    "\n",
    "P(A|B_2) = 84% = 0.84"
   ]
  },
  {
   "cell_type": "code",
   "execution_count": 2,
   "id": "49e04cd2",
   "metadata": {},
   "outputs": [
    {
     "name": "stdout",
     "output_type": "stream",
     "text": [
      "0.68\n"
     ]
    }
   ],
   "source": [
    "answer = 0.6*2/3 + 1/3*0.84\n",
    "print(round(answer, 3))"
   ]
  },
  {
   "attachments": {
    "image.png": {
     "image/png": "[encoded data removed]"
    }
   },
   "cell_type": "markdown",
   "id": "d47e3c2b",
   "metadata": {},
   "source": [
    "# б)\n",
    "Застосуэмо формулу Байєса\n",
    "![image.png](attachment:image.png)\n",
    "Р = P(A|B_1)xP(B_1)/P(A)"
   ]
  },
  {
   "cell_type": "code",
   "execution_count": 3,
   "id": "c610c26f",
   "metadata": {},
   "outputs": [
    {
     "name": "stdout",
     "output_type": "stream",
     "text": [
      "0.588\n"
     ]
    }
   ],
   "source": [
    "answer = (0.6*2/3)/0.68\n",
    "print(round(answer, 3))"
   ]
  }
 ],
 "metadata": {
  "kernelspec": {
   "display_name": "Python 3 (ipykernel)",
   "language": "python",
   "name": "python3"
  },
  "language_info": {
   "codemirror_mode": {
    "name": "ipython",
    "version": 3
   },
   "file_extension": ".py",
   "mimetype": "text/x-python",
   "name": "python",
   "nbconvert_exporter": "python",
   "pygments_lexer": "ipython3",
   "version": "3.10.6"
  }
 },
 "nbformat": 4,
 "nbformat_minor": 5
}
