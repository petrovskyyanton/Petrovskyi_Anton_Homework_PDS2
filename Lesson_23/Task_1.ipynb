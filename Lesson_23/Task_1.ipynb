{
 "cells": [
  {
   "cell_type": "markdown",
   "id": "afef2ffb",
   "metadata": {},
   "source": [
    "Прилад містить 7 елементів, 3 з яких зношені. При включенні приладу випадковим чином включаються 3 елементи. Знайти ймовірність того, що при цьому виявляться включеними два незношені елементи."
   ]
  },
  {
   "cell_type": "code",
   "execution_count": 3,
   "id": "16ca3d0f",
   "metadata": {
    "scrolled": true
   },
   "outputs": [
    {
     "name": "stdout",
     "output_type": "stream",
     "text": [
      "{'Element № 3', 'Element № 5', 'Element № 1', 'Element № 7', 'Element № 6', 'Element № 4', 'Element № 2'}\n"
     ]
    }
   ],
   "source": [
    "set_of_elements = {f'Element № {i}' for i in range(1, 8)}\n",
    "print(set_of_elements)"
   ]
  },
  {
   "cell_type": "code",
   "execution_count": 8,
   "id": "25c08da2",
   "metadata": {},
   "outputs": [
    {
     "name": "stdout",
     "output_type": "stream",
     "text": [
      "('Element № 3', 'Element № 5', 'Element № 1')\n",
      "('Element № 3', 'Element № 5', 'Element № 7')\n",
      "('Element № 3', 'Element № 5', 'Element № 6')\n",
      "('Element № 3', 'Element № 5', 'Element № 4')\n",
      "('Element № 3', 'Element № 5', 'Element № 2')\n",
      "('Element № 3', 'Element № 1', 'Element № 7')\n",
      "('Element № 3', 'Element № 1', 'Element № 6')\n",
      "('Element № 3', 'Element № 1', 'Element № 4')\n",
      "('Element № 3', 'Element № 1', 'Element № 2')\n",
      "('Element № 3', 'Element № 7', 'Element № 6')\n",
      "('Element № 3', 'Element № 7', 'Element № 4')\n",
      "('Element № 3', 'Element № 7', 'Element № 2')\n",
      "('Element № 3', 'Element № 6', 'Element № 4')\n",
      "('Element № 3', 'Element № 6', 'Element № 2')\n",
      "('Element № 3', 'Element № 4', 'Element № 2')\n",
      "('Element № 5', 'Element № 1', 'Element № 7')\n",
      "('Element № 5', 'Element № 1', 'Element № 6')\n",
      "('Element № 5', 'Element № 1', 'Element № 4')\n",
      "('Element № 5', 'Element № 1', 'Element № 2')\n",
      "('Element № 5', 'Element № 7', 'Element № 6')\n",
      "('Element № 5', 'Element № 7', 'Element № 4')\n",
      "('Element № 5', 'Element № 7', 'Element № 2')\n",
      "('Element № 5', 'Element № 6', 'Element № 4')\n",
      "('Element № 5', 'Element № 6', 'Element № 2')\n",
      "('Element № 5', 'Element № 4', 'Element № 2')\n",
      "('Element № 1', 'Element № 7', 'Element № 6')\n",
      "('Element № 1', 'Element № 7', 'Element № 4')\n",
      "('Element № 1', 'Element № 7', 'Element № 2')\n",
      "('Element № 1', 'Element № 6', 'Element № 4')\n",
      "('Element № 1', 'Element № 6', 'Element № 2')\n",
      "('Element № 1', 'Element № 4', 'Element № 2')\n",
      "('Element № 7', 'Element № 6', 'Element № 4')\n",
      "('Element № 7', 'Element № 6', 'Element № 2')\n",
      "('Element № 7', 'Element № 4', 'Element № 2')\n",
      "('Element № 6', 'Element № 4', 'Element № 2')\n",
      "Number of all combinations: 35\n"
     ]
    }
   ],
   "source": [
    "import itertools\n",
    "n = 0\n",
    "for i in combinations(set_of_elements, 3):\n",
    "    print(i)\n",
    "    n += 1\n",
    "print(f'Number of all combinations: {n}')\n",
    "#itertools.combinations(set_of_elements, 3))"
   ]
  },
  {
   "cell_type": "markdown",
   "id": "271d139f",
   "metadata": {},
   "source": [
    "Нехай зношені елементи - 1, 2, 3; незношені - 4, 5, 6, 7"
   ]
  },
  {
   "cell_type": "code",
   "execution_count": 10,
   "id": "9e033c50",
   "metadata": {},
   "outputs": [
    {
     "name": "stdout",
     "output_type": "stream",
     "text": [
      "[{'Element № 6', 'Element № 5'}, {'Element № 6', 'Element № 4'}, {'Element № 6', 'Element № 7'}, {'Element № 5', 'Element № 4'}, {'Element № 5', 'Element № 7'}, {'Element № 4', 'Element № 7'}]\n"
     ]
    }
   ],
   "source": [
    "import itertools\n",
    "list_of_sets = []\n",
    "for i in combinations({f'Element № {i}' for i in range(4, 8)}, 2):\n",
    "    list_of_sets.append(set(i))\n",
    "print(list_of_sets)"
   ]
  },
  {
   "cell_type": "code",
   "execution_count": 37,
   "id": "c6eb5dec",
   "metadata": {},
   "outputs": [
    {
     "name": "stdout",
     "output_type": "stream",
     "text": [
      "{'Element № 5', 'Element № 7', 'Element № 3'}\n",
      "{'Element № 6', 'Element № 5', 'Element № 3'}\n",
      "{'Element № 5', 'Element № 4', 'Element № 3'}\n",
      "{'Element № 6', 'Element № 7', 'Element № 3'}\n",
      "{'Element № 7', 'Element № 3', 'Element № 4'}\n",
      "{'Element № 6', 'Element № 4', 'Element № 3'}\n",
      "{'Element № 5', 'Element № 1', 'Element № 7'}\n",
      "{'Element № 6', 'Element № 5', 'Element № 1'}\n",
      "{'Element № 5', 'Element № 1', 'Element № 4'}\n",
      "{'Element № 6', 'Element № 5', 'Element № 7'}\n",
      "{'Element № 5', 'Element № 7', 'Element № 4'}\n",
      "{'Element № 5', 'Element № 7', 'Element № 2'}\n",
      "{'Element № 6', 'Element № 5', 'Element № 4'}\n",
      "{'Element № 6', 'Element № 5', 'Element № 2'}\n",
      "{'Element № 5', 'Element № 4', 'Element № 2'}\n",
      "{'Element № 6', 'Element № 1', 'Element № 7'}\n",
      "{'Element № 1', 'Element № 7', 'Element № 4'}\n",
      "{'Element № 6', 'Element № 1', 'Element № 4'}\n",
      "{'Element № 6', 'Element № 7', 'Element № 4'}\n",
      "{'Element № 6', 'Element № 7', 'Element № 2'}\n",
      "{'Element № 7', 'Element № 2', 'Element № 4'}\n",
      "{'Element № 6', 'Element № 4', 'Element № 2'}\n",
      "22\n"
     ]
    }
   ],
   "source": [
    "import itertools\n",
    "list_of_right_combinations = []\n",
    "for i in combinations(set_of_elements, 3):\n",
    "    for j in list_of_sets:\n",
    "        if j.issubset(set(i)) and set(i) not in list_of_right_combinations:\n",
    "            list_of_right_combinations.append(set(i))\n",
    "            continue\n",
    "\n",
    "for i in list_of_right_combinations:\n",
    "    print(i)\n",
    "print(len(list_of_right_combinations))"
   ]
  },
  {
   "cell_type": "markdown",
   "id": "5af279d9",
   "metadata": {},
   "source": [
    "P(A) = m / n"
   ]
  },
  {
   "cell_type": "code",
   "execution_count": 44,
   "id": "45dfb914",
   "metadata": {
    "scrolled": true
   },
   "outputs": [
    {
     "name": "stdout",
     "output_type": "stream",
     "text": [
      "0.6285714285714286\n"
     ]
    }
   ],
   "source": [
    "p = len(list_of_right_combinations)/35\n",
    "print(p)"
   ]
  }
 ],
 "metadata": {
  "kernelspec": {
   "display_name": "Python 3 (ipykernel)",
   "language": "python",
   "name": "python3"
  },
  "language_info": {
   "codemirror_mode": {
    "name": "ipython",
    "version": 3
   },
   "file_extension": ".py",
   "mimetype": "text/x-python",
   "name": "python",
   "nbconvert_exporter": "python",
   "pygments_lexer": "ipython3",
   "version": "3.10.6"
  }
 },
 "nbformat": 4,
 "nbformat_minor": 5
}
