{
 "cells": [
  {
   "cell_type": "markdown",
   "id": "88c76116",
   "metadata": {},
   "source": [
    "|year|rank  |company               |revenue|profit|\n",
    "|:---|:----:|:----:                |:----: |---:  |\n",
    "|1995|229   |Norton                |135.0  |N.A   |\n",
    "|1995|291   |Schlitz Brewing       |100.0  |N.A   |\n",
    "|1995|295   |Pacific Vegetable Oil |97.9   |N.A   |\n",
    "|1995|297   |Liebmann Breweries    |96.0   |N.A   |\n",
    "|1995|353   |Minneapolice-Moline   |77.4   |N.A   |"
   ]
  }
 ],
 "metadata": {
  "kernelspec": {
   "display_name": "Python 3 (ipykernel)",
   "language": "python",
   "name": "python3"
  },
  "language_info": {
   "codemirror_mode": {
    "name": "ipython",
    "version": 3
   },
   "file_extension": ".py",
   "mimetype": "text/x-python",
   "name": "python",
   "nbconvert_exporter": "python",
   "pygments_lexer": "ipython3",
   "version": "3.10.6"
  }
 },
 "nbformat": 4,
 "nbformat_minor": 5
}
