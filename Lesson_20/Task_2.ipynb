{
 "cells": [
  {
   "cell_type": "code",
   "execution_count": 9,
   "id": "8a468fe6",
   "metadata": {},
   "outputs": [
    {
     "name": "stdout",
     "output_type": "stream",
     "text": [
      "1.48 s ± 93.8 ms per loop (mean ± std. dev. of 7 runs, 1 loop each)\n"
     ]
    }
   ],
   "source": [
    "%%timeit\n",
    "\n",
    "\n",
    "from random_words import RandomWords\n",
    "import random\n",
    "\n",
    "int_list = []\n",
    "float_list = []\n",
    "str_list = []\n",
    "\n",
    "w = RandomWords()\n",
    "\n",
    "for i in range(0, 5000):\n",
    "    int_list.append(random.randint(0, 1000))\n",
    "    float_list.append(random.uniform(0.1, 100.0))\n",
    "    str_list.append(w.random_word())\n",
    "\n",
    "#print(\"Int List:\", int_list)\n",
    "#print(\"Float List:\", float_list)\n",
    "#print(\"String List:\", str_list)\n"
   ]
  },
  {
   "cell_type": "code",
   "execution_count": 7,
   "id": "49a49825",
   "metadata": {},
   "outputs": [
    {
     "name": "stdout",
     "output_type": "stream",
     "text": [
      "1.42 s ± 17.7 ms per loop (mean ± std. dev. of 7 runs, 1 loop each)\n"
     ]
    }
   ],
   "source": [
    "%%timeit\n",
    "import random\n",
    "from random_words import RandomWords\n",
    "\n",
    "int_list = []\n",
    "float_list = []\n",
    "str_list = []\n",
    "\n",
    "w = RandomWords()\n",
    "\n",
    "for i in range(0, 5000):\n",
    "    int_list.append(random.randint(0, 1000))\n",
    "    float_list.append(random.uniform(0.1, 100.0))\n",
    "    str_list.append(w.random_word())\n",
    "\n",
    "#print(\"Int List:\", int_list)\n",
    "#print(\"Float List:\", float_list)\n",
    "#print(\"String List:\", str_list)\n",
    "\n",
    "def heapify(nums, heap_size, root_index):\n",
    "    largest = root_index\n",
    "    left_child = (2 * root_index) + 1\n",
    "    right_child = (2 * root_index) + 2\n",
    "    \n",
    "    if left_child < heap_size and nums[left_child] > nums[largest]:\n",
    "        largest = left_child\n",
    "\n",
    "    if right_child < heap_size and nums[right_child] > nums[largest]:\n",
    "        largest = right_child\n",
    "\n",
    "    if largest != root_index:\n",
    "        nums[root_index], nums[largest] = nums[largest], nums[root_index]\n",
    "        heapify(nums, heap_size, largest)\n",
    "\n",
    "\n",
    "def heap_sort(nums):\n",
    "    n = len(nums)\n",
    "\n",
    "    for i in range(n, -1, -1):\n",
    "        heapify(nums, n, i)\n",
    "\n",
    "    for i in range(n - 1, 0, -1):\n",
    "        nums[i], nums[0] = nums[0], nums[i]\n",
    "        heapify(nums, i, 0)\n",
    "\n",
    "\n",
    "heap_sort(int_list)\n",
    "heap_sort(float_list)\n",
    "heap_sort(str_list)\n"
   ]
  }
 ],
 "metadata": {
  "kernelspec": {
   "display_name": "Python 3 (ipykernel)",
   "language": "python",
   "name": "python3"
  },
  "language_info": {
   "codemirror_mode": {
    "name": "ipython",
    "version": 3
   },
   "file_extension": ".py",
   "mimetype": "text/x-python",
   "name": "python",
   "nbconvert_exporter": "python",
   "pygments_lexer": "ipython3",
   "version": "3.10.6"
  }
 },
 "nbformat": 4,
 "nbformat_minor": 5
}
