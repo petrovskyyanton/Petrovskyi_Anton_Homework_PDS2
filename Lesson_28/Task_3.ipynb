{
 "cells": [
  {
   "cell_type": "markdown",
   "id": "1b3559c2",
   "metadata": {},
   "source": [
    "# Завдання\n",
    "Знайти мінімальний об'єм вибірки, при якому з найдійністю $\\gamma=0,99$ точність оціки математичного сподівання $\\alpha$ нормально розподіленої ознаки дорівнює $\\delta=0,6$, якщо середнє квадратичне відхилення $\\sigma=3$"
   ]
  },
  {
   "cell_type": "markdown",
   "id": "8b53a9ce",
   "metadata": {},
   "source": [
    "# Розв'язок"
   ]
  },
  {
   "cell_type": "markdown",
   "id": "c7c5456c",
   "metadata": {},
   "source": [
    "Величина об'єму вибірки, необхідного для інтервальної оцінки математичного сподівання $\\alpha$, повинна бути не меншим за число:\n",
    "\n",
    "$n=\\frac{t^2∙\\sigma^2}{\\delta^2}$"
   ]
  },
  {
   "cell_type": "markdown",
   "id": "a522fcd5",
   "metadata": {},
   "source": [
    "Знайдемо з таблці Лапласа параметр $t$: $Ф(t)=\\frac{\\gamma}{2}$. Для нашого випадку:\n",
    "\n",
    "$Ф(t)=\\frac{0,99}{2}=$"
   ]
  },
  {
   "cell_type": "code",
   "execution_count": 1,
   "id": "23a9c983",
   "metadata": {
    "scrolled": true
   },
   "outputs": [
    {
     "data": {
      "text/plain": [
       "0.495"
      ]
     },
     "execution_count": 1,
     "metadata": {},
     "output_type": "execute_result"
    }
   ],
   "source": [
    "0.99/2"
   ]
  },
  {
   "cell_type": "markdown",
   "id": "ac017c4c",
   "metadata": {},
   "source": [
    "З таблиці визначаємо $t=2,58$"
   ]
  },
  {
   "cell_type": "markdown",
   "id": "46121f07",
   "metadata": {},
   "source": [
    "$n=\\frac{t^2∙\\sigma^2}{\\delta^2}=\\frac{2,58^2∙3^2}{0,6^2}=$"
   ]
  },
  {
   "cell_type": "code",
   "execution_count": 8,
   "id": "e66143ed",
   "metadata": {},
   "outputs": [
    {
     "name": "stdout",
     "output_type": "stream",
     "text": [
      "166.41\n"
     ]
    }
   ],
   "source": [
    "print(round(((2.58**2*3**2)/(0.6**2)), 5))"
   ]
  },
  {
   "cell_type": "markdown",
   "id": "d8dc92bf",
   "metadata": {},
   "source": [
    "Величина об'єму вибірки, необхідного для інтервальної оцінки математичного сподівання $\\alpha$, повинна бути не меншим за 167"
   ]
  },
  {
   "cell_type": "code",
   "execution_count": null,
   "id": "e1ab61a8",
   "metadata": {},
   "outputs": [],
   "source": []
  }
 ],
 "metadata": {
  "kernelspec": {
   "display_name": "Python 3 (ipykernel)",
   "language": "python",
   "name": "python3"
  },
  "language_info": {
   "codemirror_mode": {
    "name": "ipython",
    "version": 3
   },
   "file_extension": ".py",
   "mimetype": "text/x-python",
   "name": "python",
   "nbconvert_exporter": "python",
   "pygments_lexer": "ipython3",
   "version": "3.10.6"
  }
 },
 "nbformat": 4,
 "nbformat_minor": 5
}
