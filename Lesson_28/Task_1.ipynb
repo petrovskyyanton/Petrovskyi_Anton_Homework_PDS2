{
 "cells": [
  {
   "cell_type": "markdown",
   "id": "1b3559c2",
   "metadata": {},
   "source": [
    "# Завдання\n",
    "Із генеральної сукупності, розподіеної за нормаьним розподілом, отримано вибірку об'ємом $n=20$\n",
    "\n",
    "$x_i$|1|2|4|6|7\n",
    "-----|-|-|-|-|-\n",
    "$n_i$|2|3|10|3|2\n",
    "\n",
    "Знайти з надійністю $\\gamma=0,95$ інтервальну оцінку для середньоквадратичного відхилення $\\sigma$ генеральної сукупності.\n"
   ]
  },
  {
   "cell_type": "markdown",
   "id": "8b53a9ce",
   "metadata": {},
   "source": [
    "# Розв'язок"
   ]
  },
  {
   "cell_type": "markdown",
   "id": "a3725041",
   "metadata": {},
   "source": [
    "\n",
    "\n",
    "З таблиць для $\\gamma=0,95$ та $n=20$ найдемо значення $q = 0,37.$ Оскільки $q<1$, то:\n",
    "\n",
    "$s(1-q)<\\sigma<s(1+q)$"
   ]
  },
  {
   "cell_type": "markdown",
   "id": "e9263275",
   "metadata": {},
   "source": [
    "Знайдемо виправлене вибіркове середнє квадратичне відхилення $s$"
   ]
  },
  {
   "cell_type": "markdown",
   "id": "57fe1c52",
   "metadata": {},
   "source": [
    "Вибіркове середнє:"
   ]
  },
  {
   "cell_type": "markdown",
   "id": "2bc4f6fe",
   "metadata": {},
   "source": [
    "$\\overline{x_{В}}=\\frac{1}{n}\\sum^k_{i=1}n_ix_i=\\frac{1}{20}(1∙2+2∙3+4∙10+6∙3+7∙2)=$"
   ]
  },
  {
   "cell_type": "code",
   "execution_count": 2,
   "id": "07b32529",
   "metadata": {},
   "outputs": [
    {
     "data": {
      "text/plain": [
       "4.0"
      ]
     },
     "execution_count": 2,
     "metadata": {},
     "output_type": "execute_result"
    }
   ],
   "source": [
    "1/20*(2+2*3+4*10+6*3+7*2)"
   ]
  },
  {
   "cell_type": "markdown",
   "id": "ebea0bca",
   "metadata": {},
   "source": [
    "Вибіркова дисперсія :\n",
    "$D_В=\\frac{1}{n}\\sum^k_{i=1}n_ix_i^2-\\overline{x_{В}^2}=\\frac{1}{20}(1^2∙2+2^2∙3+4^2∙10+6^2∙3+7^2∙2)-4^2=$"
   ]
  },
  {
   "cell_type": "code",
   "execution_count": 4,
   "id": "70b828b1",
   "metadata": {},
   "outputs": [
    {
     "data": {
      "text/plain": [
       "3.0"
      ]
     },
     "execution_count": 4,
     "metadata": {},
     "output_type": "execute_result"
    }
   ],
   "source": [
    "1/20*(1**2*2+2**2*3+4**2*10+6**2*3+7**2*2)-4**2"
   ]
  },
  {
   "cell_type": "markdown",
   "id": "09e950ec",
   "metadata": {},
   "source": [
    "Виправлена вибіркова дисперсія: \n",
    "\n",
    "$S^2=\\frac{n}{n-1}D_В$"
   ]
  },
  {
   "cell_type": "markdown",
   "id": "919cb60a",
   "metadata": {},
   "source": [
    "Виправлене вибіркове середнє квадратичне відхилення $s=\\sqrt{\\frac{n}{n-1}D_В}=$"
   ]
  },
  {
   "cell_type": "code",
   "execution_count": 2,
   "id": "f0f0d14b",
   "metadata": {},
   "outputs": [
    {
     "name": "stdout",
     "output_type": "stream",
     "text": [
      "1.777\n"
     ]
    }
   ],
   "source": [
    "s = round((20/19*3)**0.5,3)\n",
    "print(s)"
   ]
  },
  {
   "cell_type": "markdown",
   "id": "d5554bd8",
   "metadata": {},
   "source": [
    "$s(1-q)<\\sigma<s(1+q)$"
   ]
  },
  {
   "cell_type": "markdown",
   "id": "f5967bea",
   "metadata": {},
   "source": [
    "$1,777(1-0,37)<\\sigma<1,777(1+0,37)$"
   ]
  },
  {
   "cell_type": "code",
   "execution_count": 3,
   "id": "ac8c506f",
   "metadata": {},
   "outputs": [
    {
     "data": {
      "text/plain": [
       "1.12"
      ]
     },
     "execution_count": 3,
     "metadata": {},
     "output_type": "execute_result"
    }
   ],
   "source": [
    "round(s*(1-0.37),3)"
   ]
  },
  {
   "cell_type": "code",
   "execution_count": 4,
   "id": "6ba6c0e5",
   "metadata": {},
   "outputs": [
    {
     "data": {
      "text/plain": [
       "2.434"
      ]
     },
     "execution_count": 4,
     "metadata": {},
     "output_type": "execute_result"
    }
   ],
   "source": [
    "round(s*(1+0.37),3)"
   ]
  },
  {
   "cell_type": "markdown",
   "id": "10ee4fd8",
   "metadata": {},
   "source": [
    "# Відповідь\n",
    "\n",
    "$1,12<\\sigma<2,434$"
   ]
  }
 ],
 "metadata": {
  "kernelspec": {
   "display_name": "Python 3 (ipykernel)",
   "language": "python",
   "name": "python3"
  },
  "language_info": {
   "codemirror_mode": {
    "name": "ipython",
    "version": 3
   },
   "file_extension": ".py",
   "mimetype": "text/x-python",
   "name": "python",
   "nbconvert_exporter": "python",
   "pygments_lexer": "ipython3",
   "version": "3.10.6"
  }
 },
 "nbformat": 4,
 "nbformat_minor": 5
}
