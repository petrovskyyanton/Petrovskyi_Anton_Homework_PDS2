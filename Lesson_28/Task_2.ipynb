{
 "cells": [
  {
   "cell_type": "markdown",
   "id": "1b3559c2",
   "metadata": {},
   "source": [
    "# Завдання\n",
    "Знайти з найдійністю $\\gamma=0,95$ інтервальну оцінку для ймовірності настання події $A$ в кожному з \n",
    "$n=100$ незалежних повторних випробувань, якщо подія відбулася $m=40$ раз"
   ]
  },
  {
   "cell_type": "markdown",
   "id": "8b53a9ce",
   "metadata": {},
   "source": [
    "# Розв'язок"
   ]
  },
  {
   "attachments": {},
   "cell_type": "markdown",
   "id": "64b7bd0f",
   "metadata": {},
   "source": [
    "Для оцінки з надійністю γ ймовірності настання події А в кожному із n незалежних випробувань, якщо подія А відбулась m раз, використовують довірчий інтервал\n",
    "$p_1<p<p_2$, де\n",
    "\n",
    "\n",
    "\n",
    "$p_1=\\frac{1}{t^2+n}(m+\\frac{t^2}{2}-t\\sqrt{\\frac{m(n-m)}{n}+\\frac{t^2}{4}})$\n",
    "\n",
    "$p_1=\\frac{1}{t^2+n}(m+\\frac{t^2}{2}+t\\sqrt{\\frac{m(n-m)}{n}+\\frac{t^2}{4}})$"
   ]
  },
  {
   "cell_type": "markdown",
   "id": "cd8185fc",
   "metadata": {},
   "source": [
    "Знайдемо з таблці Лапласа параметр $t$: $Ф(t)=\\frac{\\gamma}{2}$. Для нашого випадку:\n",
    "\n",
    "$Ф(t)=\\frac{0,95}{2}=$"
   ]
  },
  {
   "cell_type": "code",
   "execution_count": 1,
   "id": "4dad1b8e",
   "metadata": {},
   "outputs": [
    {
     "data": {
      "text/plain": [
       "0.475"
      ]
     },
     "execution_count": 1,
     "metadata": {},
     "output_type": "execute_result"
    }
   ],
   "source": [
    "0.95/2"
   ]
  },
  {
   "cell_type": "markdown",
   "id": "6d9df9ac",
   "metadata": {},
   "source": [
    "З таблиці визначаємо $t=1,96$"
   ]
  },
  {
   "cell_type": "code",
   "execution_count": 12,
   "id": "5ae593e6",
   "metadata": {},
   "outputs": [
    {
     "name": "stdout",
     "output_type": "stream",
     "text": [
      "p1=0.308\n",
      "p1=0.5\n"
     ]
    }
   ],
   "source": [
    "t = 1.96\n",
    "m = 40\n",
    "n = 100\n",
    "p1 = 1/(t**2+n)*(m+(t**2)/2-t*((m*(n-m))/(n)+(t**2)/2)**0.5)\n",
    "p2 = 1/(t**2+n)*(m+(t**2)/2+t*((m*(n-m))/(n)+(t**2)/2)**0.5)\n",
    "print(f'p1={round(p1, 3)}')\n",
    "print(f'p1={round(p2, 3)}')"
   ]
  },
  {
   "cell_type": "markdown",
   "id": "033444f4",
   "metadata": {},
   "source": [
    "# Відповідь\n",
    "\n",
    "$0,308<p<0,5$"
   ]
  }
 ],
 "metadata": {
  "kernelspec": {
   "display_name": "Python 3 (ipykernel)",
   "language": "python",
   "name": "python3"
  },
  "language_info": {
   "codemirror_mode": {
    "name": "ipython",
    "version": 3
   },
   "file_extension": ".py",
   "mimetype": "text/x-python",
   "name": "python",
   "nbconvert_exporter": "python",
   "pygments_lexer": "ipython3",
   "version": "3.10.6"
  }
 },
 "nbformat": 4,
 "nbformat_minor": 5
}
