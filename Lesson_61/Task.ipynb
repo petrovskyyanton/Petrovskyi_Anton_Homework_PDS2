{
 "cells": [
  {
   "cell_type": "markdown",
   "id": "7059ee8e",
   "metadata": {},
   "source": [
    "### Стиснення зображення"
   ]
  },
  {
   "cell_type": "code",
   "execution_count": 78,
   "id": "1c01dd05",
   "metadata": {},
   "outputs": [],
   "source": [
    "import cv2\n",
    "import numpy as np\n",
    "import matplotlib.pyplot as plt\n",
    "from PIL import Image"
   ]
  },
  {
   "cell_type": "code",
   "execution_count": 79,
   "id": "6784b4fb",
   "metadata": {},
   "outputs": [],
   "source": [
    "image = Image.open(\"1.jpeg\")"
   ]
  },
  {
   "cell_type": "code",
   "execution_count": 80,
   "id": "ca194453",
   "metadata": {},
   "outputs": [],
   "source": [
    "image.save(\"compressed.jpg\", optimize=True, quality=10)"
   ]
  },
  {
   "cell_type": "code",
   "execution_count": 77,
   "id": "b4d761de",
   "metadata": {},
   "outputs": [],
   "source": []
  },
  {
   "cell_type": "code",
   "execution_count": 72,
   "id": "4cf47bf2",
   "metadata": {},
   "outputs": [],
   "source": [
    "image.close()"
   ]
  },
  {
   "cell_type": "markdown",
   "id": "e80eaf2d",
   "metadata": {},
   "source": [
    "### Стиснення текстового файлу"
   ]
  },
  {
   "cell_type": "code",
   "execution_count": 81,
   "id": "400df25f",
   "metadata": {},
   "outputs": [],
   "source": [
    "import gzip\n",
    "\n",
    "with open('file.txt', 'rb') as f_in:\n",
    "    with gzip.open('file.txt.gz', 'wb') as f_out:\n",
    "        f_out.writelines(f_in)"
   ]
  },
  {
   "cell_type": "code",
   "execution_count": 82,
   "id": "1344e71b",
   "metadata": {},
   "outputs": [
    {
     "name": "stdout",
     "output_type": "stream",
     "text": [
      "Розмір файлу file.txt складає 4973 байт\n",
      "Розмір файлу file.txt.gz складає 1815 байт\n"
     ]
    }
   ],
   "source": [
    "import os\n",
    "\n",
    "file_path_1 = 'file.txt'\n",
    "file_size_1 = os.path.getsize(file_path_1)\n",
    "file_path_2 = 'file.txt.gz'\n",
    "file_size_2 = os.path.getsize(file_path_2)\n",
    "print(f'Розмір файлу {file_path_1} складає {file_size_1} байт')\n",
    "print(f'Розмір файлу {file_path_2} складає {file_size_2} байт')"
   ]
  },
  {
   "cell_type": "markdown",
   "id": "ee4b9a15",
   "metadata": {},
   "source": [
    "### Алгоритм Хаффмана для стиснення та розпакування текстових файлів"
   ]
  },
  {
   "cell_type": "code",
   "execution_count": 85,
   "id": "e115ec14",
   "metadata": {},
   "outputs": [],
   "source": [
    "import heapq\n",
    "import os\n",
    "\n",
    "class HuffmanCoding:\n",
    "\n",
    "    def __init__(self, path):\n",
    "        self.path = path\n",
    "        self.heap = []\n",
    "        self.codes = {}\n",
    "        self.reverse_mapping = {}\n",
    "\n",
    "    class HeapNode:\n",
    "\n",
    "        def __init__(self, char, freq):\n",
    "            self.char = char\n",
    "            self.freq = freq\n",
    "            self.left = None\n",
    "            self.right = None\n",
    "\n",
    "        def __lt__(self, other):\n",
    "            return self.freq < other.freq\n",
    "\n",
    "        def __eq__(self, other):\n",
    "            if(other == None):\n",
    "                return False\n",
    "            if(not isinstance(other, HeapNode)):\n",
    "                return False\n",
    "            return self.freq == other.freq\n",
    "\n",
    "    def make_frequency_dict(self, text):\n",
    "        frequency = {}\n",
    "        for character in text:\n",
    "            if not character in frequency:\n",
    "                frequency[character] = 0\n",
    "            frequency[character] += 1\n",
    "        return frequency\n",
    "\n",
    "    def make_heap(self, frequency):\n",
    "        for key in frequency:\n",
    "            node = self.HeapNode(key, frequency[key])\n",
    "            heapq.heappush(self.heap, node)\n",
    "\n",
    "    def merge_nodes(self):\n",
    "        while(len(self.heap)>1):\n",
    "            node1 = heapq.heappop(self.heap)\n",
    "            node2 = heapq.heappop(self.heap)\n",
    "\n",
    "            merged = self.HeapNode(None, node1.freq + node2.freq)\n",
    "            merged.left = node1\n",
    "            merged.right = node2\n",
    "\n",
    "            heapq.heappush(self.heap, merged)\n",
    "\n",
    "    def make_codes_helper(self, root, current_code):\n",
    "        if(root == None):\n",
    "            return\n",
    "        if(root.char != None):\n",
    "            self.codes[root.char] = current_code\n",
    "            self.reverse_mapping[current_code] = root.char\n",
    "            return\n",
    "        self.make_codes_helper(root.left, current_code + \"0\")\n",
    "        self.make_codes_helper(root.right, current_code + \"1\")\n",
    "\n",
    "    def make_codes(self):\n",
    "        root = heapq.heappop(self.heap)\n",
    "        current_code = \"\"\n",
    "        self.make_codes_helper(root, current_code)\n",
    "\n",
    "    def get_encoded_text(self, text):\n",
    "        encoded_text = \"\"\n",
    "        for character in text:\n",
    "            encoded_text += self.codes[character]\n",
    "        return encoded_text\n",
    "\n",
    "    def get_byte_array(self, padded_encoded_text):\n",
    "        if(len(padded_encoded_text) % 8 != 0):\n",
    "            print(\"Encoded text not padded properly\")\n",
    "            exit(0)\n",
    "\n",
    "        b = bytearray()\n",
    "        for i in range(0, len(padded_encoded_text), 8):\n",
    "            byte = padded_encoded_text[i:i+8]\n",
    "            b.append(int(byte, 2))\n",
    "        return b\n",
    "\n",
    "    def pad_encoded_text(self, encoded_text):\n",
    "        extra_padding = 8 - len(encoded_text) % 8\n",
    "        for i in range(extra_padding):\n",
    "            encoded_text += \"0\"\n",
    "\n",
    "        padded_info = \"{0:08b}\".format(extra_padding)\n",
    "        encoded_text = padded_info + encoded_text\n",
    "        return encoded_text\n",
    "\n",
    "    def compress(self):\n",
    "        filename, file_extension = os.path.splitext(self.path)\n",
    "        output_path = filename + \".bin\"\n",
    "\n",
    "        with open(self.path, 'r+') as file, open(output_path, 'wb') as output:\n",
    "            text = file.read()\n",
    "            text = text.rstrip()\n",
    "\n",
    "            frequency = self.make_frequency_dict(text)\n",
    "            self.make_heap(frequency)\n",
    "            self.merge_nodes()\n",
    "            self.make_codes()\n",
    "\n",
    "            encoded_text = self.get_encoded_text(text)\n",
    "            padded_encoded_text = self.pad_encoded_text(encoded_text)\n",
    "\n",
    "            b = self.get_byte_array(padded_encoded_text)\n",
    "            output.write(bytes(b))\n",
    "\n",
    "        print(\"Compressed file saved as {}\".format(output_path))\n",
    "        return output_path\n",
    "\n",
    "    def remove_padding(self, padded_encoded_text):\n",
    "        padded_info = padded_encoded_text[:8]\n",
    "        extra_padding = int(padded_info, 2)\n",
    "\n",
    "        padded_encoded_text = padded_encoded_text[8:]\n",
    "        encoded_text = padded_encoded_text[:-1*extra_padding]\n",
    "\n",
    "        return encoded_text\n",
    "\n",
    "    def decode_text(self, encoded_text):\n",
    "        current_code = \"\"\n",
    "        decoded_text = \"\"\n",
    "\n",
    "        for bit in encoded_text:\n",
    "            current_code += bit\n",
    "            if(current_code in self.reverse_mapping):\n",
    "                character = self.reverse_mapping[current_code]\n",
    "                decoded_text += character\n",
    "                current_code = \"\"\n",
    "\n",
    "        return decoded_text\n",
    "\n",
    "    def decompress(self, input_path):\n",
    "        filename, file_extension = os.path.splitext(self.path)\n",
    "        output_path = filename + \"_decompressed.txt\"\n",
    "\n",
    "        with open(input_path, 'rb') as file, open(output_path, 'w') as output:\n",
    "            bit_string = \"\"\n",
    "\n",
    "            byte = file.read(1)\n",
    "            while(len(byte) > 0):\n",
    "                byte = ord(byte)\n",
    "                bits = bin(byte)[2:].rjust(8,'0')\n",
    "                bit_string += bits\n",
    "                byte = file.read(1)\n",
    "\n",
    "            encoded_text = self.remove_padding(bit_string)\n",
    "\n",
    "            decompressed_text = self.decode_text(encoded_text)\n",
    "\n",
    "            output.write(decompressed_text)\n",
    "\n",
    "        print(\"Decompressed file saved as {}\".format(output_path))\n",
    "        return output_path"
   ]
  },
  {
   "cell_type": "code",
   "execution_count": 86,
   "id": "92965a38",
   "metadata": {},
   "outputs": [
    {
     "name": "stdout",
     "output_type": "stream",
     "text": [
      "Compressed file saved as file.bin\n",
      "Decompressed file saved as file_decompressed.txt\n"
     ]
    }
   ],
   "source": [
    "h = HuffmanCoding('file.txt')\n",
    "\n",
    "compressed_path = h.compress()\n",
    "\n",
    "decompressed_path = h.decompress(compressed_path)"
   ]
  },
  {
   "cell_type": "code",
   "execution_count": 87,
   "id": "775e205a",
   "metadata": {},
   "outputs": [
    {
     "name": "stdout",
     "output_type": "stream",
     "text": [
      "Розмір файлу file.bin складає 2940 байт\n",
      "Розмір файлу file_decompressed.txt складає 4972 байт\n"
     ]
    }
   ],
   "source": [
    "import os\n",
    "\n",
    "file_path_1 = 'file.bin'\n",
    "file_size_1 = os.path.getsize(file_path_1)\n",
    "file_path_2 = 'file_decompressed.txt'\n",
    "file_size_2 = os.path.getsize(file_path_2)\n",
    "print(f'Розмір файлу {file_path_1} складає {file_size_1} байт')\n",
    "print(f'Розмір файлу {file_path_2} складає {file_size_2} байт')"
   ]
  },
  {
   "cell_type": "code",
   "execution_count": null,
   "id": "d114bba4",
   "metadata": {},
   "outputs": [],
   "source": []
  }
 ],
 "metadata": {
  "kernelspec": {
   "display_name": "Python 3 (ipykernel)",
   "language": "python",
   "name": "python3"
  },
  "language_info": {
   "codemirror_mode": {
    "name": "ipython",
    "version": 3
   },
   "file_extension": ".py",
   "mimetype": "text/x-python",
   "name": "python",
   "nbconvert_exporter": "python",
   "pygments_lexer": "ipython3",
   "version": "3.10.6"
  }
 },
 "nbformat": 4,
 "nbformat_minor": 5
}
