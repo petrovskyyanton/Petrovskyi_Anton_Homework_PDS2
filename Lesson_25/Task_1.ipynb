{
 "cells": [
  {
   "cell_type": "markdown",
   "id": "d97138e2",
   "metadata": {},
   "source": [
    "# Завдання\n",
    "Ймовірність того, що при перевірці деталь деталь виявиться стандартною, дорівнює 0,6. Перевірці підлягають 3 деталі. Побудувати закон розподілу системи двох дискретних випадкових величин $X -$ появи числа бракованих деталей, і $Y -$ появи числа стандартних деталей. \n",
    "Обчислити коефіцієнт кореляції $r_{xy}$"
   ]
  },
  {
   "cell_type": "markdown",
   "id": "5440e314",
   "metadata": {},
   "source": [
    "# Розв'язок"
   ]
  },
  {
   "cell_type": "markdown",
   "id": "ec04807d",
   "metadata": {},
   "source": [
    "Запишемо закон у табличній формі:"
   ]
  },
  {
   "cell_type": "markdown",
   "id": "25233546",
   "metadata": {},
   "source": [
    "| Y\\X  | 0      |  1      | 2         | 3          | $Py_i$  |\n",
    "|---   |---     |---      |---        |---         |---      |\n",
    "| 0    |  0     |  0      |  0        |  P(x4,y1)  |         |\n",
    "| 1    |  0     |  0      |  P(x3,y2) |  0         |         |\n",
    "| 2    |  0     | P(x2,y3)|  0        |  0         |         |\n",
    "| 3    |P(x1,y4)|  0      |  0        |  0         |         |\n",
    "| 𝑃𝑥𝑖   |        |         |           |            |         |"
   ]
  },
  {
   "cell_type": "markdown",
   "id": "b7517c7f",
   "metadata": {},
   "source": [
    "де\n",
    "\n",
    "$P(x_1,y_4) = C^3_3p^3q^0$;\n",
    "\n",
    "$P(x_2,y_3) = C^2_3p^2q^1$;\n",
    "\n",
    "$P(x_3,y_2) = C^1_3p^1q^2$;\n",
    "\n",
    "$P(x_1,y_4) = C^0_3p^0q^3$,\n",
    "\n",
    "де $p = 0,6$; а $q = 1-0,6=0,4$."
   ]
  },
  {
   "cell_type": "markdown",
   "id": "9e40fc46",
   "metadata": {},
   "source": [
    "$P(x_1,y_4) = C^3_3p^3q^0 = \\frac{3!}{3!⋅(3-3)!}⋅0,6^3⋅0,4^0=$"
   ]
  },
  {
   "cell_type": "code",
   "execution_count": null,
   "id": "c640f85f",
   "metadata": {},
   "outputs": [],
   "source": []
  }
 ],
 "metadata": {
  "kernelspec": {
   "display_name": "Python 3 (ipykernel)",
   "language": "python",
   "name": "python3"
  },
  "language_info": {
   "codemirror_mode": {
    "name": "ipython",
    "version": 3
   },
   "file_extension": ".py",
   "mimetype": "text/x-python",
   "name": "python",
   "nbconvert_exporter": "python",
   "pygments_lexer": "ipython3",
   "version": "3.10.6"
  }
 },
 "nbformat": 4,
 "nbformat_minor": 5
}
