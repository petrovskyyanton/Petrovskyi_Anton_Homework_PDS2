{
 "cells": [
  {
   "cell_type": "markdown",
   "id": "d97138e2",
   "metadata": {},
   "source": [
    "# Завдання\n",
    "Ймовірність того, що при перевірці деталь деталь виявиться стандартною, дорівнює 0,6. Перевірці підлягають 3 деталі. Побудувати закон розподілу системи двох дискретних випадкових величин $X -$ появи числа бракованих деталей, і $Y -$ появи числа стандартних деталей. \n",
    "Обчислити коефіцієнт кореляції $r_{xy}$"
   ]
  },
  {
   "cell_type": "markdown",
   "id": "5440e314",
   "metadata": {},
   "source": [
    "# Розв'язок"
   ]
  },
  {
   "cell_type": "markdown",
   "id": "ec04807d",
   "metadata": {},
   "source": [
    "Запишемо закон у табличній формі:"
   ]
  },
  {
   "cell_type": "markdown",
   "id": "25233546",
   "metadata": {},
   "source": [
    "| Y\\X  | 0      |  1      | 2         | 3          | $Py_i$  |\n",
    "|---   |---     |---      |---        |---         |---      |\n",
    "| 0    |  0     |  0      |  0        |  P(x4,y1)  |         |\n",
    "| 1    |  0     |  0      |  P(x3,y2) |  0         |         |\n",
    "| 2    |  0     | P(x2,y3)|  0        |  0         |         |\n",
    "| 3    |P(x1,y4)|  0      |  0        |  0         |         |\n",
    "| 𝑃𝑥𝑖   |        |         |           |            |         |"
   ]
  },
  {
   "cell_type": "markdown",
   "id": "b7517c7f",
   "metadata": {},
   "source": [
    "де\n",
    "\n",
    "$P(x_1,y_4) = C^3_3p^3q^0$;\n",
    "\n",
    "$P(x_2,y_3) = C^2_3p^2q^1$;\n",
    "\n",
    "$P(x_3,y_2) = C^1_3p^1q^2$;\n",
    "\n",
    "$P(x_1,y_4) = C^0_3p^0q^3$,\n",
    "\n",
    "де $p = 0,6$; а $q = 1-0,6=0,4$."
   ]
  },
  {
   "cell_type": "markdown",
   "id": "9e40fc46",
   "metadata": {},
   "source": [
    "$P(x_1,y_4) = C^3_3p^3q^0 = \\frac{3!}{3!⋅(3-3)!}⋅0,6^3⋅0,4^0=$"
   ]
  },
  {
   "cell_type": "code",
   "execution_count": 2,
   "id": "c640f85f",
   "metadata": {},
   "outputs": [
    {
     "data": {
      "text/plain": [
       "0.216"
      ]
     },
     "execution_count": 2,
     "metadata": {},
     "output_type": "execute_result"
    }
   ],
   "source": [
    "round(0.6**3,3)"
   ]
  },
  {
   "cell_type": "markdown",
   "id": "81eb7515",
   "metadata": {},
   "source": [
    "$P(x_2,y_3) = C^2_3p^2q^1 = \\frac{3!}{2!⋅(3-2)!}⋅0,6^2⋅0,4^1=$"
   ]
  },
  {
   "cell_type": "code",
   "execution_count": 7,
   "id": "3ad5fa23",
   "metadata": {},
   "outputs": [
    {
     "data": {
      "text/plain": [
       "0.432"
      ]
     },
     "execution_count": 7,
     "metadata": {},
     "output_type": "execute_result"
    }
   ],
   "source": [
    "round(3*0.6**2*0.4,3)"
   ]
  },
  {
   "cell_type": "markdown",
   "id": "b96a4410",
   "metadata": {},
   "source": [
    "$P(x_3,y_2) = C^1_3p^1q^2 = \\frac{3!}{1!⋅(3-1)!}⋅0,6^1⋅0,4^2=$"
   ]
  },
  {
   "cell_type": "code",
   "execution_count": 6,
   "id": "b371a25d",
   "metadata": {},
   "outputs": [
    {
     "data": {
      "text/plain": [
       "0.288"
      ]
     },
     "execution_count": 6,
     "metadata": {},
     "output_type": "execute_result"
    }
   ],
   "source": [
    "round(3*0.6*0.4**2,3)"
   ]
  },
  {
   "cell_type": "markdown",
   "id": "ea5599ff",
   "metadata": {},
   "source": [
    "$P(x_1,y_4) = C^0_3p^0q^3 = \\frac{3!}{0!⋅(3-0)!}⋅0,6^0⋅0,4^3=$"
   ]
  },
  {
   "cell_type": "code",
   "execution_count": 9,
   "id": "001e418f",
   "metadata": {},
   "outputs": [
    {
     "data": {
      "text/plain": [
       "0.064"
      ]
     },
     "execution_count": 9,
     "metadata": {},
     "output_type": "execute_result"
    }
   ],
   "source": [
    "round(0.4**3,3)"
   ]
  },
  {
   "cell_type": "markdown",
   "id": "12a8f329",
   "metadata": {},
   "source": [
    "Підставимо значення у таблицю:\n",
    "\n",
    "| Y\\X  | 0      |  1      | 2         | 3          | $Py_i$  |\n",
    "|---   |---     |---      |---        |---         |---      |\n",
    "| 0    |  0     |  0      |  0        |  0.064     |  0.064  |\n",
    "| 1    |  0     |  0      |  0.288    |  0         | 0.288   |\n",
    "| 2    |  0     | 0.432   |  0        |  0         |0.432    |\n",
    "| 3    |  0.216 |  0      |  0        |  0         |   0.216 |\n",
    "| 𝑃𝑥𝑖   | 0.216  |   0.432 |  0.288    |  0.064     |    1     |"
   ]
  },
  {
   "cell_type": "code",
   "execution_count": null,
   "id": "f976fb70",
   "metadata": {},
   "outputs": [],
   "source": []
  }
 ],
 "metadata": {
  "kernelspec": {
   "display_name": "Python 3 (ipykernel)",
   "language": "python",
   "name": "python3"
  },
  "language_info": {
   "codemirror_mode": {
    "name": "ipython",
    "version": 3
   },
   "file_extension": ".py",
   "mimetype": "text/x-python",
   "name": "python",
   "nbconvert_exporter": "python",
   "pygments_lexer": "ipython3",
   "version": "3.10.6"
  }
 },
 "nbformat": 4,
 "nbformat_minor": 5
}
