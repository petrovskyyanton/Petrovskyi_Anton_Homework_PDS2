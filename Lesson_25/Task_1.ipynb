{
 "cells": [
  {
   "cell_type": "markdown",
   "id": "d97138e2",
   "metadata": {},
   "source": [
    "# Завдання\n",
    "Ймовірність того, що при перевірці деталь деталь виявиться стандартною, дорівнює 0,6. Перевірці підлягають 3 деталі. Побудувати закон розподілу системи двох дискретних випадкових величин $X -$ появи числа бракованих деталей, і $Y -$ появи числа стандартних деталей. \n",
    "Обчислити коефіцієнт кореляції $r_{xy}$"
   ]
  },
  {
   "cell_type": "markdown",
   "id": "5440e314",
   "metadata": {},
   "source": [
    "# Розв'язок"
   ]
  },
  {
   "cell_type": "markdown",
   "id": "ec04807d",
   "metadata": {},
   "source": [
    "Запишемо закон у табличній формі:"
   ]
  },
  {
   "cell_type": "markdown",
   "id": "25233546",
   "metadata": {},
   "source": [
    "| Y\\X  | 0      |  1      | 2         | 3          | $Py_i$  |\n",
    "|---   |---     |---      |---        |---         |---      |\n",
    "| 0    |  0     |  0      |  0        |  P(x4,y1)  |         |\n",
    "| 1    |  0     |  0      |  P(x3,y2) |  0         |         |\n",
    "| 2    |  0     | P(x2,y3)|  0        |  0         |         |\n",
    "| 3    |P(x1,y4)|  0      |  0        |  0         |         |\n",
    "| 𝑃𝑥𝑖   |        |         |           |            |         |"
   ]
  },
  {
   "cell_type": "markdown",
   "id": "b7517c7f",
   "metadata": {},
   "source": [
    "де\n",
    "\n",
    "$P(x_1,y_4) = C^3_3p^3q^0$;\n",
    "\n",
    "$P(x_2,y_3) = C^2_3p^2q^1$;\n",
    "\n",
    "$P(x_3,y_2) = C^1_3p^1q^2$;\n",
    "\n",
    "$P(x_1,y_4) = C^0_3p^0q^3$,\n",
    "\n",
    "де $p = 0,6$; а $q = 1-0,6=0,4$."
   ]
  },
  {
   "cell_type": "markdown",
   "id": "9e40fc46",
   "metadata": {},
   "source": [
    "$P(x_1,y_4) = C^3_3p^3q^0 = \\frac{3!}{3!⋅(3-3)!}⋅0,6^3⋅0,4^0=$"
   ]
  },
  {
   "cell_type": "code",
   "execution_count": 2,
   "id": "c640f85f",
   "metadata": {},
   "outputs": [
    {
     "data": {
      "text/plain": [
       "0.216"
      ]
     },
     "execution_count": 2,
     "metadata": {},
     "output_type": "execute_result"
    }
   ],
   "source": [
    "round(0.6**3,3)"
   ]
  },
  {
   "cell_type": "markdown",
   "id": "47c61475",
   "metadata": {},
   "source": [
    "$P(x_2,y_3) = C^2_3p^2q^1 = \\frac{3!}{2!⋅(3-2)!}⋅0,6^2⋅0,4^1=$"
   ]
  },
  {
   "cell_type": "code",
   "execution_count": 7,
   "id": "215b280d",
   "metadata": {},
   "outputs": [
    {
     "data": {
      "text/plain": [
       "0.432"
      ]
     },
     "execution_count": 7,
     "metadata": {},
     "output_type": "execute_result"
    }
   ],
   "source": [
    "round(3*0.6**2*0.4,3)"
   ]
  },
  {
   "cell_type": "markdown",
   "id": "4fed002d",
   "metadata": {},
   "source": [
    "$P(x_3,y_2) = C^1_3p^1q^2 = \\frac{3!}{1!⋅(3-1)!}⋅0,6^1⋅0,4^2=$"
   ]
  },
  {
   "cell_type": "code",
   "execution_count": 6,
   "id": "a673273a",
   "metadata": {},
   "outputs": [
    {
     "data": {
      "text/plain": [
       "0.288"
      ]
     },
     "execution_count": 6,
     "metadata": {},
     "output_type": "execute_result"
    }
   ],
   "source": [
    "round(3*0.6*0.4**2,3)"
   ]
  },
  {
   "cell_type": "markdown",
   "id": "88d18d19",
   "metadata": {},
   "source": [
    "$P(x_1,y_4) = C^0_3p^0q^3 = \\frac{3!}{0!⋅(3-0)!}⋅0,6^0⋅0,4^3=$"
   ]
  },
  {
   "cell_type": "code",
   "execution_count": 9,
   "id": "d20541b7",
   "metadata": {},
   "outputs": [
    {
     "data": {
      "text/plain": [
       "0.064"
      ]
     },
     "execution_count": 9,
     "metadata": {},
     "output_type": "execute_result"
    }
   ],
   "source": [
    "round(0.4**3,3)"
   ]
  },
  {
   "cell_type": "markdown",
   "id": "347f575b",
   "metadata": {},
   "source": [
    "Підставимо значення у таблицю:\n",
    "\n",
    "| Y\\X  | 0      |  1      | 2         | 3          | $Py_i$  |\n",
    "|---   |---     |---      |---        |---         |---      |\n",
    "| 0    |  0     |  0      |  0        |  0.064     |  0.064  |\n",
    "| 1    |  0     |  0      |  0.288    |  0         | 0.288   |\n",
    "| 2    |  0     | 0.432   |  0        |  0         |0.432    |\n",
    "| 3    |  0.216 |  0      |  0        |  0         |   0.216 |\n",
    "| 𝑃𝑥𝑖   | 0.216  |   0.432 |  0.288    |  0.064     |    1     |"
   ]
  },
  {
   "cell_type": "markdown",
   "id": "37e68c26",
   "metadata": {},
   "source": [
    "1) Розрахуємо умовні математичні очікування.\n",
    "\n",
    "$M(Y/x) = \\sum^m_{j=1}y_jp(y_j,x)$\n",
    "\n",
    "$M(X/y) = \\sum^n_{i=1}x_ip(x_i,y)$"
   ]
  },
  {
   "cell_type": "markdown",
   "id": "48c5c304",
   "metadata": {},
   "source": [
    "$M(X/y) = 0∙0,216 + 1∙0,432 + 2∙0,288 + 3∙0,064 =$"
   ]
  },
  {
   "cell_type": "code",
   "execution_count": 11,
   "id": "f9135ecc",
   "metadata": {},
   "outputs": [
    {
     "data": {
      "text/plain": [
       "1.2"
      ]
     },
     "execution_count": 11,
     "metadata": {},
     "output_type": "execute_result"
    }
   ],
   "source": [
    "round(0*0.216 + 1*0.432 + 2*0.288 + 3*0.064, 3)"
   ]
  },
  {
   "cell_type": "markdown",
   "id": "19b69298",
   "metadata": {},
   "source": [
    "$M(Y/x) = 0∙0,064 + 1∙0,288 + 2∙0,432 + 3∙0,216 =$"
   ]
  },
  {
   "cell_type": "code",
   "execution_count": 12,
   "id": "574f7ee2",
   "metadata": {
    "scrolled": true
   },
   "outputs": [
    {
     "data": {
      "text/plain": [
       "1.8"
      ]
     },
     "execution_count": 12,
     "metadata": {},
     "output_type": "execute_result"
    }
   ],
   "source": [
    "round(0*0.064 + 1*0.288 + 2*0.432 + 3*0.216, 3)"
   ]
  },
  {
   "cell_type": "markdown",
   "id": "7d2f6c7e",
   "metadata": {},
   "source": [
    "2) Для середньоквадратичного відхилення спочатку визначимо умовну дисперсію:\n",
    "$D[Y/X=x] = M[(Y-M[Y])^2] = 0,064∙(0-1,8)^2+0,288∙(1-1,8)^2+0,432∙(2-1,8)^2+0,216∙(3-1,8)^2=$"
   ]
  },
  {
   "cell_type": "code",
   "execution_count": 14,
   "id": "3b9c9183",
   "metadata": {},
   "outputs": [
    {
     "data": {
      "text/plain": [
       "0.715"
      ]
     },
     "execution_count": 14,
     "metadata": {},
     "output_type": "execute_result"
    }
   ],
   "source": [
    "round(0.064*(0-1.8)**2+0.28*(1-1.8)**2+0.432*(2-1.8)**2+0.216*(3-1.8)**2, 3)"
   ]
  },
  {
   "cell_type": "markdown",
   "id": "fae30724",
   "metadata": {},
   "source": [
    "$D[X/Y=y] = M[(X-M[X])^2] =0,216∙(0-1,2)^2+0,432∙(1-1,2)^2+0,288∙(2-1,2)^2+0,064∙(3-1,2)^2=$"
   ]
  },
  {
   "cell_type": "code",
   "execution_count": 15,
   "id": "0e05429e",
   "metadata": {},
   "outputs": [
    {
     "data": {
      "text/plain": [
       "0.72"
      ]
     },
     "execution_count": 15,
     "metadata": {},
     "output_type": "execute_result"
    }
   ],
   "source": [
    "round(0.216*(0-1.2)**2+0.432*(1-1.2)**2+0.288*(2-1.2)**2+0.064*(3-1.2)**2, 3)"
   ]
  },
  {
   "cell_type": "markdown",
   "id": "ea1701f4",
   "metadata": {},
   "source": [
    "Середньоквадратичне відхилення відповідно:\n",
    "1) $\\sigma_y = \\sqrt{D[Y/X=x]} = \\sqrt{0.715} = $"
   ]
  },
  {
   "cell_type": "code",
   "execution_count": 16,
   "id": "76a8c70b",
   "metadata": {},
   "outputs": [
    {
     "data": {
      "text/plain": [
       "0.846"
      ]
     },
     "execution_count": 16,
     "metadata": {},
     "output_type": "execute_result"
    }
   ],
   "source": [
    "round(0.715**0.5, 3)"
   ]
  },
  {
   "cell_type": "markdown",
   "id": "87cef1b5",
   "metadata": {},
   "source": [
    "2) $\\sigma_x = \\sqrt{D[X/Y=y]} = \\sqrt{0.72} =$"
   ]
  },
  {
   "cell_type": "code",
   "execution_count": 17,
   "id": "5568c542",
   "metadata": {},
   "outputs": [
    {
     "data": {
      "text/plain": [
       "0.849"
      ]
     },
     "execution_count": 17,
     "metadata": {},
     "output_type": "execute_result"
    }
   ],
   "source": [
    "round(0.72**0.5, 3)"
   ]
  },
  {
   "cell_type": "markdown",
   "id": "c764c56c",
   "metadata": {},
   "source": [
    "3. Розрахуємо коефіцієнти коваріації та кореляції.\n",
    "\n",
    "$cov(X,Y) = M[XY] - M[X]M[Y] = $"
   ]
  },
  {
   "cell_type": "code",
   "execution_count": 21,
   "id": "21b7f656",
   "metadata": {},
   "outputs": [
    {
     "data": {
      "text/plain": [
       "-0.72"
      ]
     },
     "execution_count": 21,
     "metadata": {},
     "output_type": "execute_result"
    }
   ],
   "source": [
    "round((1*2*0.288 + 1*2*0.432) - 1.8*1.2, 3)"
   ]
  },
  {
   "cell_type": "markdown",
   "id": "b0f74cb0",
   "metadata": {},
   "source": [
    "Коефіцієнт кореляції відповідно:\n",
    "$r_{xy} = \\frac{cov(X,Y)}{\\sigma_x ∙ \\sigma_y} = \\frac{-0.72}{0.846∙0.849} = $.\n"
   ]
  },
  {
   "cell_type": "code",
   "execution_count": 24,
   "id": "e655fb6a",
   "metadata": {},
   "outputs": [
    {
     "data": {
      "text/plain": [
       "-1.0"
      ]
     },
     "execution_count": 24,
     "metadata": {},
     "output_type": "execute_result"
    }
   ],
   "source": [
    "round(-0.72/(0.846*0.849), 2)"
   ]
  },
  {
   "cell_type": "code",
   "execution_count": null,
   "id": "584cb098",
   "metadata": {},
   "outputs": [],
   "source": []
  }
 ],
 "metadata": {
  "kernelspec": {
   "display_name": "Python 3 (ipykernel)",
   "language": "python",
   "name": "python3"
  },
  "language_info": {
   "codemirror_mode": {
    "name": "ipython",
    "version": 3
   },
   "file_extension": ".py",
   "mimetype": "text/x-python",
   "name": "python",
   "nbconvert_exporter": "python",
   "pygments_lexer": "ipython3",
   "version": "3.10.6"
  }
 },
 "nbformat": 4,
 "nbformat_minor": 5
}
